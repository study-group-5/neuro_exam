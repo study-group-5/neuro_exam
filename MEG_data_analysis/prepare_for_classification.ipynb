{
 "cells": [
  {
   "cell_type": "code",
   "execution_count": 1,
   "id": "e4f4a66b-c13c-4c32-a894-b3b093868e85",
   "metadata": {
    "execution": {
     "iopub.execute_input": "2022-10-28T11:14:40.650742Z",
     "iopub.status.busy": "2022-10-28T11:14:40.650002Z",
     "iopub.status.idle": "2022-10-28T11:14:45.357829Z",
     "shell.execute_reply": "2022-10-28T11:14:45.356908Z",
     "shell.execute_reply.started": "2022-10-28T11:14:40.650684Z"
    }
   },
   "outputs": [],
   "source": [
    "#%% IMPORTS \n",
    "\n",
    "import mne\n",
    "from os.path import join\n",
    "import matplotlib.pyplot as plt\n",
    "import numpy as np\n",
    "import pandas as pd"
   ]
  },
  {
   "cell_type": "code",
   "execution_count": 3,
   "id": "1b10f2d0-909c-478d-861b-ed05002eb310",
   "metadata": {
    "execution": {
     "iopub.execute_input": "2022-10-28T11:15:05.255321Z",
     "iopub.status.busy": "2022-10-28T11:15:05.254577Z",
     "iopub.status.idle": "2022-10-28T11:15:05.276750Z",
     "shell.execute_reply": "2022-10-28T11:15:05.275976Z",
     "shell.execute_reply.started": "2022-10-28T11:15:05.255257Z"
    },
    "tags": []
   },
   "outputs": [],
   "source": [
    "\n",
    "#%% PREPROCESSIN\n",
    "\n",
    "def preprocess_sensor_space_data(subject, date, raw_path,\n",
    "                                 event_id=dict(\n",
    "                                            ipos = 21,\n",
    "                                            ipos_wneu = 41,\n",
    "                                            ineg = 22,\n",
    "                                            ineg_wneu = 42,\n",
    "                                            wpos = 11,\n",
    "                                            wneg = 12,\n",
    "                                            wneu = 13\n",
    "                                            ),\n",
    "                                 h_freq=40,\n",
    "                                 tmin=-0.200, tmax=0.500, baseline=(None, 0),\n",
    "                                 reject=None, decim=1,\n",
    "                                 return_epochs=False,\n",
    "                                 ):\n",
    "    n_recordings = 6\n",
    "    epochs_list = list()\n",
    "    for recording_index in range(n_recordings): # ## loop from 0 to 5\n",
    "        fif_index = recording_index + 1 # files are not 0-indexed\n",
    "        fif_fname = 'face_word_' + str(fif_index) \n",
    "        if subject == '0085': ## sonething went wrong with the first three rec.\n",
    "            folder_name = '00' + str(fif_index + 3) + '.' + fif_fname\n",
    "        else:\n",
    "            folder_name = '00' + str(fif_index) + '.' + fif_fname # HERE A CRUCIAL DOT WAS ADDED\n",
    "            \n",
    "        full_path = join(raw_path, subject, date, 'MEG', folder_name,\n",
    "                         'files', fif_fname + '.fif')\n",
    "        raw = mne.io.read_raw(full_path, preload=True)\n",
    "        raw.filter(l_freq=None, h_freq=h_freq, n_jobs=4)\n",
    "        \n",
    "        events = mne.find_events(raw, min_duration=0.002)\n",
    "        epochs = mne.Epochs(raw, events, event_id, tmin, tmax, baseline,\n",
    "                            preload=True, decim=decim)\n",
    "        epochs.pick_types(meg=True)\n",
    "        if return_epochs:\n",
    "            epochs_list.append(epochs)\n",
    "        else:\n",
    "            if recording_index == 0:\n",
    "                X = epochs.get_data()\n",
    "                y = epochs.events[:, 2]\n",
    "            else:\n",
    "                X = np.concatenate((X, epochs.get_data()), axis=0)\n",
    "                y = np.concatenate((y, epochs.events[:, 2]))\n",
    "    \n",
    "    if return_epochs:\n",
    "        return epochs_list\n",
    "    else:\n",
    "        return X, y\n",
    "\n",
    "def preprocess_source_space_data(subject, date, raw_path, subjects_dir,\n",
    "                                 epochs_list=None,\n",
    "                              event_id=dict(ipos = 21,\n",
    "                                            ipos_wneu = 41,\n",
    "                                            ineg = 22,\n",
    "                                            ineg_wneu = 42,\n",
    "                                            wpos = 11,\n",
    "                                            wneg = 12,\n",
    "                                            wneu = 13\n",
    "                                            ),\n",
    "                              h_freq=40,\n",
    "                              tmin=-0.200, tmax=0.500, baseline=(None, 0),\n",
    "                              reject=None, decim=1,\n",
    "                              method='MNE', lambda2=1, pick_ori='normal',\n",
    "                              label= None): ####### HERE\n",
    "    if epochs_list is None:\n",
    "        epochs_list = preprocess_sensor_space_data(subject, date, raw_path,\n",
    "                                                   return_epochs=True)\n",
    "    y = np.zeros(0)\n",
    "    for epochs in epochs_list: # get y\n",
    "        y = np.concatenate((y, epochs.events[:, 2]))\n",
    "    \n",
    "    if label is not None:\n",
    "        label_path = join(subjects_dir, subject, 'label', label)\n",
    "        label = mne.read_label(label_path)\n",
    "    \n",
    "    for epochs_index, epochs in enumerate(epochs_list): ## get X\n",
    "        fwd_fname = 'face_word_' + str(epochs_index + 1) + '-oct-6-src-' + \\\n",
    "                    '5120-5120-5120-fwd.fif'\n",
    "        fwd = mne.read_forward_solution(join(subjects_dir,\n",
    "                                             subject, 'bem', fwd_fname))\n",
    "        noise_cov = mne.compute_covariance(epochs, tmax=0.000)\n",
    "        inv = mne.minimum_norm.make_inverse_operator(epochs.info,\n",
    "                                                     fwd, noise_cov)\n",
    "  \n",
    "        \n",
    "        stcs = mne.minimum_norm.apply_inverse_epochs(epochs, inv, lambda2,\n",
    "                                                     method, label,\n",
    "                                                     pick_ori=pick_ori)\n",
    "        for stc_index, stc in enumerate(stcs):\n",
    "            this_data = stc.data\n",
    "            if epochs_index == 0 and stc_index == 0:\n",
    "                n_trials = len(stcs)\n",
    "                n_vertices, n_samples = this_data.shape\n",
    "                this_X = np.zeros(shape=(n_trials, n_vertices, n_samples))\n",
    "            this_X[stc_index, :, :] = this_data\n",
    "            \n",
    "        if epochs_index == 0:\n",
    "            X = this_X\n",
    "        else:\n",
    "            X = np.concatenate((X, this_X))\n",
    "    return X, y"
   ]
  },
  {
   "cell_type": "code",
   "execution_count": null,
   "id": "61412a94",
   "metadata": {},
   "outputs": [],
   "source": [
    "# creating epochs_list \n",
    "epochs_list = preprocess_sensor_space_data('0095', '20221007_000000',\n",
    "        raw_path='/work/220269/raw_MEG/',\n",
    "        return_epochs=True, decim=4) ##CHANGE TO YOUR PATHS"
   ]
  },
  {
   "cell_type": "code",
   "execution_count": null,
   "id": "c91243d3",
   "metadata": {},
   "outputs": [],
   "source": [
    "#%% RUNNING FUNCTIONS ##### ROI ## preprocess_source_space_data function\n",
    "X_BA45_lh, y = preprocess_source_space_data(\n",
    "        '0095', '20221007_000000', \n",
    "        raw_path='/work/220269/raw_MEG', \n",
    "        subjects_dir = '/work/220269/freesurfer/',\n",
    "        epochs_list = epochs_list,\n",
    "        label= 'lh.BA45_exvivo.label')\n",
    "        #,decim=4\n",
    "\n",
    "        # freesurfer labels\n",
    "        # lh.BA45_exvivo.label\n",
    "        # lh.B44_exvivo.label\n",
    "        # rh.fusiform.label\n",
    "        # lh.fusiform.label"
   ]
  },
  {
   "cell_type": "code",
   "execution_count": 73,
   "id": "bb52d224",
   "metadata": {},
   "outputs": [
    {
     "data": {
      "text/plain": [
       "(720,)"
      ]
     },
     "execution_count": 73,
     "metadata": {},
     "output_type": "execute_result"
    }
   ],
   "source": [
    "#%% COLLAPSE EVENTS - single subject\n",
    "\n",
    "def collapse_events(y, new_value, old_values=list()):\n",
    "    for old_value in old_values:\n",
    "        y[y == old_value] = new_value\n",
    "    return y\n",
    "\n",
    "collapsed_y = collapse_events(y, 0, [21, 41, 22, 42]) # image is 0\n",
    "collapsed_y = collapse_events(collapsed_y, 1, [11, 12, 13]) # word is 1 \n",
    "\n",
    "collapsed_y.shape"
   ]
  },
  {
   "cell_type": "code",
   "execution_count": 74,
   "id": "52025951",
   "metadata": {},
   "outputs": [
    {
     "data": {
      "text/plain": [
       "(720, 110, 176)"
      ]
     },
     "execution_count": 74,
     "metadata": {},
     "output_type": "execute_result"
    }
   ],
   "source": [
    "X_BA45_lh.shape # 720, 93, 176\n",
    "\n",
    "# par 89 har 720, 111, 176\n",
    "# par 95 har 720, 110, 176"
   ]
  },
  {
   "cell_type": "code",
   "execution_count": 75,
   "id": "fd7314b7",
   "metadata": {},
   "outputs": [
    {
     "data": {
      "text/html": [
       "<table class=\"table table-hover table-striped table-sm table-responsive small\">\n",
       "    <tr>\n",
       "        <th>Number of events</th>\n",
       "        <td>120</td>\n",
       "    </tr>\n",
       "    <tr>\n",
       "        <th>Events</th>\n",
       "        \n",
       "        <td>ineg: 20<br/>ineg_wneu: 11<br/>ipos: 20<br/>ipos_wneu: 9<br/>wneg: 20<br/>wneu: 20<br/>wpos: 20</td>\n",
       "        \n",
       "    </tr>\n",
       "    <tr>\n",
       "        <th>Time range</th>\n",
       "        <td>-0.200 – 0.500 sec</td>\n",
       "    </tr>\n",
       "    <tr>\n",
       "        <th>Baseline</th>\n",
       "        <td>-0.200 – 0.000 sec</td>\n",
       "    </tr>\n",
       "</table>"
      ],
      "text/plain": [
       "<Epochs |  120 events (all good), -0.2 - 0.5 sec, baseline -0.2 – 0 sec, ~54.5 MB, data loaded,\n",
       " 'ipos': 20\n",
       " 'ipos_wneu': 9\n",
       " 'ineg': 20\n",
       " 'ineg_wneu': 11\n",
       " 'wpos': 20\n",
       " 'wneg': 20\n",
       " 'wneu': 20>"
      ]
     },
     "execution_count": 75,
     "metadata": {},
     "output_type": "execute_result"
    }
   ],
   "source": [
    "# looking at the details of the participant in question\n",
    "epochs_list[0]"
   ]
  },
  {
   "cell_type": "markdown",
   "id": "d7f4a527",
   "metadata": {},
   "source": [
    "## Classification"
   ]
  },
  {
   "cell_type": "code",
   "execution_count": 8,
   "id": "ad13eed2-ac8b-4bc2-93b2-33b0b1897ae3",
   "metadata": {
    "execution": {
     "iopub.execute_input": "2022-10-28T11:17:10.661944Z",
     "iopub.status.busy": "2022-10-28T11:17:10.661269Z",
     "iopub.status.idle": "2022-10-28T11:17:10.675638Z",
     "shell.execute_reply": "2022-10-28T11:17:10.674734Z",
     "shell.execute_reply.started": "2022-10-28T11:17:10.661887Z"
    }
   },
   "outputs": [],
   "source": [
    "\n",
    "#%% SIMPLE CLASSIFICATION\n",
    "\n",
    "def simple_classification(X, y, penalty='none', C=1.0):\n",
    "\n",
    "    from sklearn.linear_model import LogisticRegression\n",
    "    from sklearn.preprocessing import StandardScaler\n",
    "    from sklearn.model_selection import cross_val_score, StratifiedKFold\n",
    "    \n",
    "    n_samples = X.shape[2]\n",
    "    logr = LogisticRegression(penalty=penalty, C=C, solver='newton-cg')\n",
    "    sc = StandardScaler() # especially necessary for sensor space as\n",
    "                          ## magnetometers\n",
    "                          # and gradiometers are on different scales \n",
    "                          ## (T and T/m)\n",
    "    cv = StratifiedKFold()\n",
    "    \n",
    "    mean_scores = np.zeros(n_samples)\n",
    "    \n",
    "    for sample_index in range(n_samples):\n",
    "        this_X = X[:, :, sample_index]\n",
    "        sc.fit(this_X)\n",
    "        this_X_std = sc.transform(this_X)\n",
    "        scores = cross_val_score(logr, this_X_std, y, cv=cv, n_jobs=-1)\n",
    "        mean_scores[sample_index] = np.mean(scores)\n",
    "        print(sample_index)\n",
    "        \n",
    "    return mean_scores"
   ]
  },
  {
   "cell_type": "code",
   "execution_count": null,
   "id": "c7e30dca",
   "metadata": {},
   "outputs": [],
   "source": [
    "# Defining ROI's #1\n",
    "# fusiform face area; concatenate right and left lh.fusiform.label + rh.fusiform.label\n",
    "\n",
    "X_fusiform_both = np.concatenate((X_fusiform_lh,\n",
    "                                              X_fusiform_rh), axis=1)\n",
    "\n",
    "# run classification\n",
    "mean_scores_fu_both = simple_classification(X_fusiform_both,\n",
    "                                    collapsed_y,\n",
    "                                    penalty='l2', C=1e-3)"
   ]
  },
  {
   "cell_type": "code",
   "execution_count": null,
   "id": "c6cd0dff",
   "metadata": {},
   "outputs": [],
   "source": [
    "# Defining ROI's #2\n",
    "# Broca's area; both BA44 and BA45\n",
    "\n",
    "# concatenate labels\n",
    "X_BA44_BA45_lh = np.concatenate((X_BA44_lh, X_BA45_lh), axis = 1)\n",
    "\n",
    "# run classification\n",
    "mean_scores_BA = simple_classification(X_BA44_BA45_lh, collapsed_y, penalty = 'l2', C=1e-3)"
   ]
  },
  {
   "cell_type": "code",
   "execution_count": 77,
   "id": "a03e0478",
   "metadata": {},
   "outputs": [],
   "source": [
    "##### change participant number! to be used when plotting, saving files, etc.\n",
    "par_no = 95"
   ]
  },
  {
   "cell_type": "code",
   "execution_count": null,
   "id": "135cc89d",
   "metadata": {},
   "outputs": [],
   "source": [
    "# create dataframe, change column name and write to csv\n",
    "df = pd.DataFrame(mean_scores_BA) \n",
    "df.columns = ['par_%s' % (par_no)]\n",
    "print(df)"
   ]
  },
  {
   "cell_type": "code",
   "execution_count": 79,
   "id": "573ab730",
   "metadata": {},
   "outputs": [],
   "source": [
    "# write to csv\n",
    "df.to_csv(\"mean_scores/mean_scores_BA44_BA45_lh_%s.csv\" % (par_no), index = False)"
   ]
  },
  {
   "cell_type": "code",
   "execution_count": null,
   "id": "01f4a6da",
   "metadata": {},
   "outputs": [],
   "source": [
    "# # # initialize df\n",
    "# BA44_BA45_all_participants = pd.DataFrame()\n",
    "# print(BA44_BA45_all_participants)"
   ]
  },
  {
   "cell_type": "code",
   "execution_count": null,
   "id": "4deea30f",
   "metadata": {},
   "outputs": [],
   "source": [
    "## if df has already been initialized, read instead \n",
    "#BA44_BA45_all_participants = pd.read_csv(\"/work/SigridAgersnapBomNielsen#1365/MEG_data_analysis/BA44_BA45_all_participants.csv\")"
   ]
  },
  {
   "cell_type": "code",
   "execution_count": null,
   "id": "b40a77d7",
   "metadata": {},
   "outputs": [],
   "source": [
    "# append df to big dataframe\n",
    "BA44_BA45_all_participants = pd.concat([BA44_BA45_all_participants, df], axis = 1)\n",
    "\n",
    "# check that it looks alright - it does\n",
    "BA44_BA45_all_participants"
   ]
  },
  {
   "cell_type": "code",
   "execution_count": 81,
   "id": "136b03d1",
   "metadata": {},
   "outputs": [],
   "source": [
    "# write to csv\n",
    "BA44_BA45_all_participants.to_csv(\"BA44_BA45_all_participants.csv\", index = False)"
   ]
  },
  {
   "cell_type": "code",
   "execution_count": null,
   "id": "a55ebf9c",
   "metadata": {},
   "outputs": [],
   "source": [
    "# read the csv and check that it is saved\n",
    "test = pd.read_csv(\"/work/SigridAgersnapBomNielsen#1365/MEG_data_analysis/BA44_BA45_all_participants.csv\")\n",
    "test"
   ]
  },
  {
   "cell_type": "markdown",
   "id": "2e82b9e1",
   "metadata": {},
   "source": [
    "### Classification plot"
   ]
  },
  {
   "cell_type": "code",
   "execution_count": 90,
   "id": "d952ed9f",
   "metadata": {},
   "outputs": [],
   "source": [
    "#%% PLOT \n",
    "\n",
    "# times = epochs_list[0].times\n",
    "# times = np.arange(-0.200, 0.501, 0.001)\n",
    "    \n",
    "def plot_classfication(times, mean_scores, fig_name, title=None, subtitle = None, save_fig = False):\n",
    "    plt.figure()\n",
    "    plt.plot(times, mean_scores)\n",
    "    plt.hlines(0.50, times[0], times[-1], linestyle='dashed', color='k')\n",
    "    plt.ylabel('Proportion classified correctly')\n",
    "    plt.xlabel('Time (s)')\n",
    "    if title is None:\n",
    "        plt.title('please write a title')\n",
    "    else:\n",
    "        plt.title(title)\n",
    "\n",
    "    if subtitle is None: \n",
    "        plt.suptitle('test')\n",
    "    else:\n",
    "        plt.suptitle(subtitle)\n",
    "\n",
    "    # saving fig\n",
    "    if save_fig:\n",
    "        path = \"figures/\"\n",
    "        fig_name_here = join(fig_name + \"%s\" + \".png\") % (par_no)\n",
    "        #fig_name_here = join(fig_name + \"all_par\" + \".png\") # to be used when making a plot for all participants\n",
    "        plt.savefig(path + fig_name_here)\n",
    "    plt.show()\n"
   ]
  },
  {
   "cell_type": "code",
   "execution_count": 89,
   "id": "2720e0e8",
   "metadata": {},
   "outputs": [
    {
     "data": {
      "image/png": "[encoded data removed]",
      "text/plain": [
       "<Figure size 432x288 with 1 Axes>"
      ]
     },
     "metadata": {
      "needs_background": "light"
     },
     "output_type": "display_data"
    }
   ],
   "source": [
    "# run plot function\n",
    "plot_classfication(\n",
    "    epochs_list[0].times, \n",
    "    #BA44_BA45_all_participants.iloc[:,6], # to be used when plotting the mean accuracy across participants\n",
    "    mean_scores_BA,\n",
    "    fig_name = \"BA44_BA45_lh_\",\n",
    "    title = \"Word vs image trials in Broca's area\", \n",
    "    subtitle = \"Participant %s\" % (par_no),\n",
    "    #subtitle = 'Mean acc. across participants',\n",
    "    save_fig = True)\n"
   ]
  },
  {
   "cell_type": "markdown",
   "id": "7dd68b6f",
   "metadata": {},
   "source": [
    "### Add mean column to dataframe"
   ]
  },
  {
   "cell_type": "code",
   "execution_count": null,
   "id": "2ce04eb8",
   "metadata": {},
   "outputs": [],
   "source": [
    "# Create mean column in the big df of classification accuracies\n",
    "BA44_BA45_all_participants['mean'] = BA44_BA45_all_participants.mean(axis = 1)\n",
    "print(BA44_BA45_all_participants)"
   ]
  },
  {
   "cell_type": "code",
   "execution_count": 85,
   "id": "e26d51fd",
   "metadata": {},
   "outputs": [],
   "source": [
    "# save to csv\n",
    "BA44_BA45_all_participants.to_csv(\"BA44_BA45_all_participants.csv\", index = False)"
   ]
  },
  {
   "cell_type": "code",
   "execution_count": null,
   "id": "f1f141c6",
   "metadata": {},
   "outputs": [],
   "source": [
    "# read the csv to check that it is saved\n",
    "test = pd.read_csv(\"/work/SigridAgersnapBomNielsen#1365/MEG_data_analysis/BA44_BA45_all_participants.csv\")\n",
    "test"
   ]
  },
  {
   "cell_type": "markdown",
   "id": "bfeb4aa0",
   "metadata": {},
   "source": [
    "Then, plot again."
   ]
  },
  {
   "cell_type": "markdown",
   "id": "ed133da0",
   "metadata": {},
   "source": [
    "#### Calculating a mean of classification accuracy for baseline and for after showing the stimulus"
   ]
  },
  {
   "cell_type": "code",
   "execution_count": 96,
   "id": "738fecbf",
   "metadata": {},
   "outputs": [],
   "source": [
    "# read a given file of accuracy scores to see how many rows we have\n",
    "BA44_BA44_par95 = pd.read_csv(\"/work/SigridAgersnapBomNielsen#1365/MEG_data_analysis/mean_scores/mean_scores_BA44_BA45_lh_95.csv\")\n",
    "print(BA44_BA44_par95)"
   ]
  },
  {
   "cell_type": "markdown",
   "id": "13f0a5b5",
   "metadata": {},
   "source": [
    "We have 176 rows. Now we need to figure out how many rows, or classification accuracies, we have before and after the onset of the stim."
   ]
  },
  {
   "cell_type": "code",
   "execution_count": 98,
   "id": "fec6c72a",
   "metadata": {},
   "outputs": [
    {
     "data": {
      "text/plain": [
       "(-0.2, 0.0)"
      ]
     },
     "execution_count": 98,
     "metadata": {},
     "output_type": "execute_result"
    }
   ],
   "source": [
    "epochs_list[0].baseline"
   ]
  },
  {
   "cell_type": "markdown",
   "id": "240f527a",
   "metadata": {},
   "source": [
    "All the classification accuracies which are more than or equal to zero are from when or after the stimulus is shown."
   ]
  },
  {
   "cell_type": "code",
   "execution_count": 99,
   "id": "1bd78ba6",
   "metadata": {},
   "outputs": [],
   "source": [
    "# make a list which states whether the timestamp is more than or equal to zero\n",
    "to_include = epochs_list[0].times >= 0\n",
    "print(to_include)"
   ]
  },
  {
   "cell_type": "code",
   "execution_count": 101,
   "id": "12fe7c1f",
   "metadata": {},
   "outputs": [
    {
     "data": {
      "text/plain": [
       "126"
      ]
     },
     "execution_count": 101,
     "metadata": {},
     "output_type": "execute_result"
    }
   ],
   "source": [
    "# count the number of true values\n",
    "np.count_nonzero(to_include)"
   ]
  },
  {
   "cell_type": "markdown",
   "id": "f92073fc",
   "metadata": {},
   "source": [
    "126 classification accuracies after stim onset. which leaves us with:"
   ]
  },
  {
   "cell_type": "code",
   "execution_count": 102,
   "id": "027af385",
   "metadata": {},
   "outputs": [
    {
     "data": {
      "text/plain": [
       "50"
      ]
     },
     "execution_count": 102,
     "metadata": {},
     "output_type": "execute_result"
    }
   ],
   "source": [
    "176-126"
   ]
  },
  {
   "cell_type": "markdown",
   "id": "6781edee",
   "metadata": {},
   "source": [
    "50 classification accuracies before stim onset. now to calculate the mean before and after stim onset"
   ]
  },
  {
   "cell_type": "code",
   "execution_count": 103,
   "id": "90ccbac9",
   "metadata": {},
   "outputs": [],
   "source": [
    "BA = pd.read_csv(\"/work/SigridAgersnapBomNielsen#1365/MEG_data_analysis/BA44_BA45_all_participants.csv\")\n",
    "fus = pd.read_csv(\"/work/SigridAgersnapBomNielsen#1365/MEG_data_analysis/fusiform_both_all_participants.csv\")"
   ]
  },
  {
   "cell_type": "markdown",
   "id": "0ef3467d",
   "metadata": {},
   "source": [
    "select the first 50 rows to calculate a mean before stim onset"
   ]
  },
  {
   "cell_type": "code",
   "execution_count": 104,
   "id": "6ed8b437",
   "metadata": {},
   "outputs": [
    {
     "data": {
      "text/plain": [
       "0.52"
      ]
     },
     "execution_count": 104,
     "metadata": {},
     "output_type": "execute_result"
    }
   ],
   "source": [
    "BA_50 = BA.head(50)\n",
    "BA_mean_before_stim = BA_50[\"mean\"].mean()\n",
    "round(BA_mean_before_stim, 2) #mean before stim is 0.52"
   ]
  },
  {
   "cell_type": "markdown",
   "id": "092dd523",
   "metadata": {},
   "source": [
    "select the last 126 rows to calculate a mean after stim onset"
   ]
  },
  {
   "cell_type": "code",
   "execution_count": 105,
   "id": "9e608cbf",
   "metadata": {},
   "outputs": [
    {
     "data": {
      "text/plain": [
       "0.6"
      ]
     },
     "execution_count": 105,
     "metadata": {},
     "output_type": "execute_result"
    }
   ],
   "source": [
    "BA_126 = BA.tail(126)\n",
    "BA_mean_after_stim = BA_126[\"mean\"].mean()\n",
    "round(BA_mean_after_stim, 2) # mean after stim onset is 0.6"
   ]
  },
  {
   "cell_type": "markdown",
   "id": "e61fda69",
   "metadata": {},
   "source": [
    "Now the same, but for the fusiform gyri"
   ]
  },
  {
   "cell_type": "code",
   "execution_count": 415,
   "id": "56b7dbab",
   "metadata": {},
   "outputs": [
    {
     "data": {
      "text/plain": [
       "0.52"
      ]
     },
     "execution_count": 415,
     "metadata": {},
     "output_type": "execute_result"
    }
   ],
   "source": [
    "fus_50 = fus.head(50)\n",
    "fus_mean_before_stim = fus_50[\"mean\"].mean()\n",
    "round(fus_mean_before_stim, 2) # mean before stim is 0.52"
   ]
  },
  {
   "cell_type": "code",
   "execution_count": 416,
   "id": "e403dfb1",
   "metadata": {},
   "outputs": [
    {
     "data": {
      "text/plain": [
       "0.69"
      ]
     },
     "execution_count": 416,
     "metadata": {},
     "output_type": "execute_result"
    }
   ],
   "source": [
    "fus_126 = fus.tail(126)\n",
    "fus_mean_after_stim = fus_126[\"mean\"].mean()\n",
    "round(fus_mean_after_stim, 2) # mean after stim onset is 0.69"
   ]
  },
  {
   "cell_type": "markdown",
   "id": "d081cc20",
   "metadata": {},
   "source": [
    "# Permutation test"
   ]
  },
  {
   "cell_type": "code",
   "execution_count": 22,
   "id": "cf6b4579",
   "metadata": {},
   "outputs": [],
   "source": [
    "from sklearn.linear_model import LogisticRegression\n",
    "from sklearn.preprocessing import StandardScaler\n",
    "from sklearn.model_selection import cross_val_score, StratifiedKFold\n",
    "from sklearn.model_selection import permutation_test_score"
   ]
  },
  {
   "cell_type": "code",
   "execution_count": 106,
   "id": "7ff1d75f",
   "metadata": {},
   "outputs": [
    {
     "name": "stdout",
     "output_type": "stream",
     "text": [
      "Classification Accuracy: 0.6277777777777778 (pvalue : 0.000999000999000999)\n"
     ]
    }
   ],
   "source": [
    "# indledende øvelser fra simple class function (need to do it again, because it only functions locally in a function)\n",
    "X = X_BA44_BA45_lh.copy()\n",
    "\n",
    "n_samples = X.shape[2]\n",
    "\n",
    "#standardizing the X\n",
    "sc = StandardScaler() # especially necessary for sensor space as\n",
    "                          ## magnetometers\n",
    "                          # and gradiometers are on different scales \n",
    "                          ## (T and T/m)\n",
    "    \n",
    "for sample_index in range(n_samples):\n",
    "    this_X = X[:, :, sample_index]\n",
    "    sc.fit(this_X)\n",
    "    this_X_std = sc.transform(this_X)\n",
    "\n",
    "# calculating the permutation test score\n",
    "score, permutation_scores, pvalue = permutation_test_score(\n",
    "    LogisticRegression(penalty=\"l2\", C=1e-3, solver='newton-cg'),\n",
    "    this_X_std, collapsed_y, cv=StratifiedKFold(), n_permutations=1000, \n",
    "    n_jobs=1, random_state=0, verbose=0, scoring=None)\n",
    "print(\"Classification Accuracy: %s (pvalue : %s)\" % (score, pvalue))"
   ]
  },
  {
   "cell_type": "code",
   "execution_count": 107,
   "id": "fb08e32b",
   "metadata": {},
   "outputs": [
    {
     "name": "stdout",
     "output_type": "stream",
     "text": [
      "0.6277777777777778\n",
      "0.000999000999000999\n",
      "95\n"
     ]
    }
   ],
   "source": [
    "# checking stuff\n",
    "print(score)\n",
    "print(pvalue)\n",
    "print(par_no)"
   ]
  },
  {
   "cell_type": "code",
   "execution_count": null,
   "id": "251b4bc7",
   "metadata": {},
   "outputs": [],
   "source": [
    "# # create a pd dataframe which saves participant number, classification accuracy score and p-value\n",
    "# # ONLY RUN THIS THE FIRST TIME\n",
    "# df_perm = pd.DataFrame({'participant' : [par_no],\n",
    "#                     'class_acc': [score],\n",
    "#                     'permutation_p_val': [pvalue]})\n",
    "# print(df_perm)"
   ]
  },
  {
   "cell_type": "code",
   "execution_count": null,
   "id": "a21c4718",
   "metadata": {},
   "outputs": [],
   "source": [
    "## when the df has been initialized, read it to append more participants\n",
    "# df_perm = pd.read_csv(\"mean_scores/df_perm_BA44_BA45.csv\")\n",
    "# print(df_perm)"
   ]
  },
  {
   "cell_type": "code",
   "execution_count": 108,
   "id": "bec0fefc",
   "metadata": {},
   "outputs": [
    {
     "name": "stdout",
     "output_type": "stream",
     "text": [
      "   participant  class_acc  permutation_p_val\n",
      "0           85   0.579167           0.000999\n",
      "1           86   0.606944           0.000999\n",
      "2           87   0.638889           0.000999\n",
      "3           88   0.651389           0.000999\n",
      "4           89   0.591667           0.000999\n",
      "5           95   0.627778           0.000999\n"
     ]
    },
    {
     "name": "stderr",
     "output_type": "stream",
     "text": [
      "/tmp/ipykernel_280/1048796819.py:6: FutureWarning: The frame.append method is deprecated and will be removed from pandas in a future version. Use pandas.concat instead.\n",
      "  df_perm = df_perm.append(temp, ignore_index=True)\n"
     ]
    }
   ],
   "source": [
    "# append new values to df\n",
    "temp = pd.DataFrame({'participant' : [par_no],\n",
    "                    'class_acc': [score],\n",
    "                    'permutation_p_val': [pvalue]})\n",
    "\n",
    "df_perm = df_perm.append(temp, ignore_index=True)\n",
    "print(df_perm)"
   ]
  },
  {
   "cell_type": "code",
   "execution_count": 109,
   "id": "dda18b10",
   "metadata": {},
   "outputs": [],
   "source": [
    "# save df\n",
    "df_perm.to_csv(\"mean_scores/df_perm_BA44_BA45.csv\", index = False)"
   ]
  },
  {
   "cell_type": "code",
   "execution_count": 110,
   "id": "4e52dfbd",
   "metadata": {},
   "outputs": [
    {
     "name": "stdout",
     "output_type": "stream",
     "text": [
      "   participant  class_acc  permutation_p_val\n",
      "0           85   0.579167           0.000999\n",
      "1           86   0.606944           0.000999\n",
      "2           87   0.638889           0.000999\n",
      "3           88   0.651389           0.000999\n",
      "4           89   0.591667           0.000999\n",
      "5           95   0.627778           0.000999\n"
     ]
    }
   ],
   "source": [
    "# testing - it works\n",
    "test = pd.read_csv(\"mean_scores/df_perm_BA44_BA45.csv\")\n",
    "print(test)"
   ]
  },
  {
   "cell_type": "markdown",
   "id": "2ec81081",
   "metadata": {},
   "source": [
    "df = pd.DataFrame({'points': [10, 12, 12, 14, 13, 18],\n",
    "                   'rebounds': [7, 7, 8, 13, 7, 4],\n",
    "                   'assists': [11, 8, 10, 6, 6, 5]})"
   ]
  },
  {
   "cell_type": "markdown",
   "id": "180ce87c",
   "metadata": {},
   "source": [
    "### Save X_std and collapsed y per participant"
   ]
  },
  {
   "cell_type": "code",
   "execution_count": 111,
   "id": "07fe7bd7",
   "metadata": {},
   "outputs": [],
   "source": [
    "# save X_std ######### \n",
    "np.savetxt(\"preprocessed_data/X_BA44_BA45_lh_std_%s.csv\" % (par_no), this_X_std, delimiter=\",\")"
   ]
  },
  {
   "cell_type": "code",
   "execution_count": 175,
   "id": "e5165039",
   "metadata": {},
   "outputs": [],
   "source": [
    "# save y_collapsed ###### \n",
    "#np.savetxt(\"preprocessed_data/collapsed_y%s.csv\" % (par_no), collapsed_y, delimiter = \",\")"
   ]
  },
  {
   "cell_type": "code",
   "execution_count": 138,
   "id": "4ebd608b",
   "metadata": {},
   "outputs": [
    {
     "name": "stdout",
     "output_type": "stream",
     "text": [
      "(720,)\n"
     ]
    }
   ],
   "source": [
    "#testing that it works - it does\n",
    "from numpy import genfromtxt\n",
    "\n",
    "test = genfromtxt('preprocessed_data/collapsed_y_85.csv', delimiter=',')\n"
   ]
  },
  {
   "cell_type": "markdown",
   "id": "fd942d3c",
   "metadata": {},
   "source": [
    "### Permutation plot"
   ]
  },
  {
   "cell_type": "code",
   "execution_count": 112,
   "id": "8820109d",
   "metadata": {},
   "outputs": [
    {
     "data": {
      "image/png": "[encoded data removed]",
      "text/plain": [
       "<Figure size 432x288 with 1 Axes>"
      ]
     },
     "metadata": {
      "needs_background": "light"
     },
     "output_type": "display_data"
    }
   ],
   "source": [
    "#How many classes\n",
    "n_classes = np.unique(collapsed_y).size\n",
    "\n",
    "# round p val\n",
    "pvalue = round(pvalue,7)\n",
    "\n",
    "plt.hist(permutation_scores, 20, label='Permutation scores',\n",
    "         edgecolor='black')\n",
    "ylim = plt.ylim()\n",
    "plt.plot(2 * [score], ylim, '--g', linewidth=3,\n",
    "         label='Classification Score'\n",
    "         ' (pvalue %s)' % pvalue)\n",
    "plt.plot(2 * [1. / n_classes], ylim, '--k', linewidth=3, label='Chance level')\n",
    "\n",
    "plt.ylim(ylim)\n",
    "plt.legend()\n",
    "plt.xlabel('Score')\n",
    "plt.title(\"Permutation test of participant %s\" % (par_no))\n",
    "plt.suptitle(\"Classification of trial type in Broca's area\")\n",
    "savefig_here = \"figures/BA44_BA45_lh_%s_permutation.png\" % (par_no)\n",
    "plt.savefig(savefig_here)\n",
    "\n",
    "plt.show()"
   ]
  }
 ],
 "metadata": {
  "kernelspec": {
   "display_name": "Python 3 ",
   "language": "python",
   "name": "python3"
  },
  "language_info": {
   "codemirror_mode": {
    "name": "ipython",
    "version": 3
   },
   "file_extension": ".py",
   "mimetype": "text/x-python",
   "name": "python",
   "nbconvert_exporter": "python",
   "pygments_lexer": "ipython3",
   "version": "3.9.2"
  }
 },
 "nbformat": 4,
 "nbformat_minor": 5
}
