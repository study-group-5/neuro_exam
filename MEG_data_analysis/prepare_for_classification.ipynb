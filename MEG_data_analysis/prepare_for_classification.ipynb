{
 "cells": [
  {
   "cell_type": "code",
   "execution_count": 2,
   "id": "e4f4a66b-c13c-4c32-a894-b3b093868e85",
   "metadata": {
    "execution": {
     "iopub.execute_input": "2022-10-28T11:14:40.650742Z",
     "iopub.status.busy": "2022-10-28T11:14:40.650002Z",
     "iopub.status.idle": "2022-10-28T11:14:45.357829Z",
     "shell.execute_reply": "2022-10-28T11:14:45.356908Z",
     "shell.execute_reply.started": "2022-10-28T11:14:40.650684Z"
    }
   },
   "outputs": [],
   "source": [
    "#%% IMPORTS \n",
    "\n",
    "import mne\n",
    "from os.path import join\n",
    "import matplotlib.pyplot as plt\n",
    "import numpy as np\n",
    "import pandas as pd"
   ]
  },
  {
   "cell_type": "code",
   "execution_count": 183,
   "id": "1b10f2d0-909c-478d-861b-ed05002eb310",
   "metadata": {
    "execution": {
     "iopub.execute_input": "2022-10-28T11:15:05.255321Z",
     "iopub.status.busy": "2022-10-28T11:15:05.254577Z",
     "iopub.status.idle": "2022-10-28T11:15:05.276750Z",
     "shell.execute_reply": "2022-10-28T11:15:05.275976Z",
     "shell.execute_reply.started": "2022-10-28T11:15:05.255257Z"
    },
    "tags": []
   },
   "outputs": [],
   "source": [
    "\n",
    "#%% PREPROCESSIN\n",
    "\n",
    "def preprocess_sensor_space_data(subject, date, raw_path,\n",
    "                                 event_id=dict(\n",
    "                                            ipos = 21,\n",
    "                                            ipos_wneu = 41,\n",
    "                                            ineg = 22,\n",
    "                                            ineg_wneu = 42,\n",
    "                                            wpos = 11,\n",
    "                                            wneg = 12,\n",
    "                                            wneu = 13\n",
    "                                            ),\n",
    "                                 h_freq=40,\n",
    "                                 tmin=-0.200, tmax=0.500, baseline=(None, 0),\n",
    "                                 reject=None, decim=1,\n",
    "                                 return_epochs=False,\n",
    "                                 ):\n",
    "    n_recordings = 6\n",
    "    epochs_list = list()\n",
    "    for recording_index in range(n_recordings): # ## loop from 0 to 5\n",
    "        fif_index = recording_index + 1 # files are not 0-indexed\n",
    "        fif_fname = 'face_word_' + str(fif_index) \n",
    "        if subject == '0085': ## sonething went wrong with the first three rec.\n",
    "            folder_name = '00' + str(fif_index + 3) + '.' + fif_fname\n",
    "        else:\n",
    "            folder_name = '00' + str(fif_index) + '.' + fif_fname # HERE A CRUCIAL DOT WAS ADDED\n",
    "            \n",
    "        full_path = join(raw_path, subject, date, 'MEG', folder_name,\n",
    "                         'files', fif_fname + '.fif')\n",
    "        raw = mne.io.read_raw(full_path, preload=True)\n",
    "        raw.filter(l_freq=None, h_freq=h_freq, n_jobs=4)\n",
    "        \n",
    "        events = mne.find_events(raw, min_duration=0.002)\n",
    "        epochs = mne.Epochs(raw, events, event_id, tmin, tmax, baseline,\n",
    "                            preload=True, decim=decim)\n",
    "        epochs.pick_types(meg=True)\n",
    "        if return_epochs:\n",
    "            epochs_list.append(epochs)\n",
    "        else:\n",
    "            if recording_index == 0:\n",
    "                X = epochs.get_data()\n",
    "                y = epochs.events[:, 2]\n",
    "            else:\n",
    "                X = np.concatenate((X, epochs.get_data()), axis=0)\n",
    "                y = np.concatenate((y, epochs.events[:, 2]))\n",
    "    \n",
    "    if return_epochs:\n",
    "        return epochs_list\n",
    "    else:\n",
    "        return X, y\n",
    "\n",
    "def preprocess_source_space_data(subject, date, raw_path, subjects_dir,\n",
    "                                 epochs_list=None,\n",
    "                              event_id=dict(ipos = 21,\n",
    "                                            ipos_wneu = 41,\n",
    "                                            ineg = 22,\n",
    "                                            ineg_wneu = 42,\n",
    "                                            wpos = 11,\n",
    "                                            wneg = 12,\n",
    "                                            wneu = 13\n",
    "                                            ),\n",
    "                              h_freq=40,\n",
    "                              tmin=-0.200, tmax=0.500, baseline=(None, 0),\n",
    "                              reject=None, decim=1,\n",
    "                              method='MNE', lambda2=1, pick_ori='normal',\n",
    "                              label= None): ####### HERE\n",
    "    if epochs_list is None:\n",
    "        epochs_list = preprocess_sensor_space_data(subject, date, raw_path,\n",
    "                                                   return_epochs=True)\n",
    "    y = np.zeros(0)\n",
    "    for epochs in epochs_list: # get y\n",
    "        y = np.concatenate((y, epochs.events[:, 2]))\n",
    "    \n",
    "    if label is not None:\n",
    "        label_path = join(subjects_dir, subject, 'label', label)\n",
    "        label = mne.read_label(label_path)\n",
    "    \n",
    "    for epochs_index, epochs in enumerate(epochs_list): ## get X\n",
    "        fwd_fname = 'face_word_' + str(epochs_index + 1) + '-oct-6-src-' + \\\n",
    "                    '5120-5120-5120-fwd.fif'\n",
    "        fwd = mne.read_forward_solution(join(subjects_dir,\n",
    "                                             subject, 'bem', fwd_fname))\n",
    "        noise_cov = mne.compute_covariance(epochs, tmax=0.000)\n",
    "        inv = mne.minimum_norm.make_inverse_operator(epochs.info,\n",
    "                                                     fwd, noise_cov)\n",
    "  \n",
    "        \n",
    "        stcs = mne.minimum_norm.apply_inverse_epochs(epochs, inv, lambda2,\n",
    "                                                     method, label,\n",
    "                                                     pick_ori=pick_ori)\n",
    "        for stc_index, stc in enumerate(stcs):\n",
    "            this_data = stc.data\n",
    "            if epochs_index == 0 and stc_index == 0:\n",
    "                n_trials = len(stcs)\n",
    "                n_vertices, n_samples = this_data.shape\n",
    "                this_X = np.zeros(shape=(n_trials, n_vertices, n_samples))\n",
    "            this_X[stc_index, :, :] = this_data\n",
    "            \n",
    "        if epochs_index == 0:\n",
    "            X = this_X\n",
    "        else:\n",
    "            X = np.concatenate((X, this_X))\n",
    "    return X, y"
   ]
  },
  {
   "cell_type": "code",
   "execution_count": null,
   "id": "61412a94",
   "metadata": {},
   "outputs": [],
   "source": [
    "# creating epochs_list \n",
    "epochs_list = preprocess_sensor_space_data('0086', '20221004_000000',\n",
    "        raw_path='/work/220269/raw_MEG/',\n",
    "        return_epochs=True, decim=4) ##CHANGE TO YOUR PATHS"
   ]
  },
  {
   "cell_type": "code",
   "execution_count": null,
   "id": "c91243d3",
   "metadata": {},
   "outputs": [],
   "source": [
    "#%% RUNNING FUNCTIONS ##### ROI ## preprocess_source_space_data function\n",
    "# maybe run epochs_list first and then run the function below\n",
    "X_fusiform_rh, y = preprocess_source_space_data(\n",
    "        '0095', '20221007_000000', \n",
    "        raw_path='/work/220269/raw_MEG', \n",
    "        subjects_dir = '/work/220269/freesurfer/',\n",
    "        epochs_list = epochs_list,\n",
    "        label= 'rh.fusiform.label')\n",
    "        #,decim=4\n",
    "        #) ##CHANGE TO YOUR PATHS"
   ]
  },
  {
   "cell_type": "code",
   "execution_count": 321,
   "id": "bb52d224",
   "metadata": {},
   "outputs": [
    {
     "data": {
      "text/plain": [
       "(720,)"
      ]
     },
     "execution_count": 321,
     "metadata": {},
     "output_type": "execute_result"
    }
   ],
   "source": [
    "#%% COLLAPSE EVENTS - single subject\n",
    "\n",
    "def collapse_events(y, new_value, old_values=list()):\n",
    "    for old_value in old_values:\n",
    "        y[y == old_value] = new_value\n",
    "    return y\n",
    "\n",
    "\n",
    "collapsed_y = collapse_events(y, 0, [21, 41, 22, 42]) # image is 0\n",
    "collapsed_y = collapse_events(collapsed_y, 1, [11, 12, 13]) # word is 1 \n",
    "\n",
    "collapsed_y.shape"
   ]
  },
  {
   "cell_type": "code",
   "execution_count": 71,
   "id": "52025951",
   "metadata": {},
   "outputs": [
    {
     "data": {
      "text/plain": [
       "(720, 93, 176)"
      ]
     },
     "execution_count": 71,
     "metadata": {},
     "output_type": "execute_result"
    }
   ],
   "source": [
    "X_BA45_lh.shape # 720, 93, 176\n",
    "\n",
    "# par 89 har 720, 111, 176\n",
    "# par 95 har 720, 110, 176"
   ]
  },
  {
   "cell_type": "code",
   "execution_count": 322,
   "id": "cf8ee956",
   "metadata": {},
   "outputs": [
    {
     "data": {
      "text/plain": [
       "(720, 125, 176)"
      ]
     },
     "execution_count": 322,
     "metadata": {},
     "output_type": "execute_result"
    }
   ],
   "source": [
    "X_fusiform_lh.shape"
   ]
  },
  {
   "cell_type": "code",
   "execution_count": 323,
   "id": "4417fe0d",
   "metadata": {},
   "outputs": [
    {
     "data": {
      "text/plain": [
       "(720, 111, 176)"
      ]
     },
     "execution_count": 323,
     "metadata": {},
     "output_type": "execute_result"
    }
   ],
   "source": [
    "X_fusiform_rh.shape"
   ]
  },
  {
   "cell_type": "code",
   "execution_count": null,
   "id": "fd7314b7",
   "metadata": {},
   "outputs": [],
   "source": [
    "# looking at the deets\n",
    "epochs_list[0]"
   ]
  },
  {
   "cell_type": "markdown",
   "id": "d7f4a527",
   "metadata": {},
   "source": [
    "## Classification"
   ]
  },
  {
   "cell_type": "code",
   "execution_count": 182,
   "id": "ad13eed2-ac8b-4bc2-93b2-33b0b1897ae3",
   "metadata": {
    "execution": {
     "iopub.execute_input": "2022-10-28T11:17:10.661944Z",
     "iopub.status.busy": "2022-10-28T11:17:10.661269Z",
     "iopub.status.idle": "2022-10-28T11:17:10.675638Z",
     "shell.execute_reply": "2022-10-28T11:17:10.674734Z",
     "shell.execute_reply.started": "2022-10-28T11:17:10.661887Z"
    }
   },
   "outputs": [],
   "source": [
    "\n",
    "#%% SIMPLE CLASSIFICATION\n",
    "\n",
    "def simple_classification(X, y, penalty='none', C=1.0):\n",
    "\n",
    "    from sklearn.linear_model import LogisticRegression\n",
    "    from sklearn.preprocessing import StandardScaler\n",
    "    from sklearn.model_selection import cross_val_score, StratifiedKFold\n",
    "    \n",
    "    n_samples = X.shape[2]\n",
    "    logr = LogisticRegression(penalty=penalty, C=C, solver='newton-cg')\n",
    "    sc = StandardScaler() # especially necessary for sensor space as\n",
    "                          ## magnetometers\n",
    "                          # and gradiometers are on different scales \n",
    "                          ## (T and T/m)\n",
    "    cv = StratifiedKFold()\n",
    "    \n",
    "    mean_scores = np.zeros(n_samples)\n",
    "    \n",
    "    for sample_index in range(n_samples):\n",
    "        this_X = X[:, :, sample_index]\n",
    "        sc.fit(this_X)\n",
    "        this_X_std = sc.transform(this_X)\n",
    "        scores = cross_val_score(logr, this_X_std, y, cv=cv, n_jobs=-1)\n",
    "        mean_scores[sample_index] = np.mean(scores)\n",
    "        print(sample_index)\n",
    "        \n",
    "    return mean_scores"
   ]
  },
  {
   "cell_type": "code",
   "execution_count": null,
   "id": "c7e30dca",
   "metadata": {},
   "outputs": [],
   "source": [
    "# Defining ROI's\n",
    "# fusiform face area; concatenate right and left lh.fusiform.label + rh.fusiform.label\n",
    "\n",
    "X_fusiform_both = np.concatenate((X_fusiform_lh,\n",
    "                                              X_fusiform_rh), axis=1)\n",
    "\n",
    "mean_scores_fu_both = simple_classification(X_fusiform_both,\n",
    "                                    collapsed_y,\n",
    "                                    penalty='l2', C=1e-3)"
   ]
  },
  {
   "cell_type": "code",
   "execution_count": 325,
   "id": "a03e0478",
   "metadata": {},
   "outputs": [],
   "source": [
    "#mean_scores_fu_both_86 = mean_scores_fu_both.copy() \n",
    "##### change participant number!\n",
    "par_no = 95"
   ]
  },
  {
   "cell_type": "code",
   "execution_count": null,
   "id": "1bb943e1",
   "metadata": {},
   "outputs": [],
   "source": [
    "# # Broca' area ROI classification ############ CHANGE NAME OF FILE!!!\n",
    "# mean_scores_BA45_95 = simple_classification(X_BA45_lh,\n",
    "#                                     collapsed_y,\n",
    "#                                     penalty='l2', C=1e-3)"
   ]
  },
  {
   "cell_type": "code",
   "execution_count": null,
   "id": "135cc89d",
   "metadata": {},
   "outputs": [],
   "source": [
    "# create dataframe, change column name and write to csv\n",
    "df = pd.DataFrame(mean_scores_fu_both) \n",
    "df.columns = ['par_%s' % (par_no)]\n",
    "print(df)"
   ]
  },
  {
   "cell_type": "code",
   "execution_count": 327,
   "id": "573ab730",
   "metadata": {},
   "outputs": [],
   "source": [
    "# write to csv\n",
    "df.to_csv(\"mean_scores/mean_scores_fu_both_%s.csv\" % (par_no), index = False)"
   ]
  },
  {
   "cell_type": "code",
   "execution_count": 192,
   "id": "8c473b30",
   "metadata": {},
   "outputs": [],
   "source": [
    "#df_BA_lh_85 = pd.read_csv(\"/work/SigridAgersnapBomNielsen#1365/MEG_data_analysis/mean_scores/mean_scores_BA45_lh_85.csv\")"
   ]
  },
  {
   "cell_type": "code",
   "execution_count": null,
   "id": "01f4a6da",
   "metadata": {},
   "outputs": [],
   "source": [
    "# # initialize df\n",
    "# fusiform_both_all_participants = pd.DataFrame()\n",
    "# print(fusiform_both_all_participants)"
   ]
  },
  {
   "cell_type": "code",
   "execution_count": null,
   "id": "b40a77d7",
   "metadata": {},
   "outputs": [],
   "source": [
    "# append to big dataframe\n",
    "fusiform_both_all_participants = pd.concat([fusiform_both_all_participants, df], axis = 1)\n",
    "\n",
    "# check that it is as it should be\n",
    "fusiform_both_all_participants"
   ]
  },
  {
   "cell_type": "code",
   "execution_count": 329,
   "id": "136b03d1",
   "metadata": {},
   "outputs": [],
   "source": [
    "# write to csv\n",
    "fusiform_both_all_participants.to_csv(\"fusiform_both_all_participants.csv\", index = False)"
   ]
  },
  {
   "cell_type": "code",
   "execution_count": null,
   "id": "a55ebf9c",
   "metadata": {},
   "outputs": [],
   "source": [
    "# read the csv and check that it is saved\n",
    "test = pd.read_csv(\"/work/SigridAgersnapBomNielsen#1365/MEG_data_analysis/fusiform_both_all_participants.csv\")\n",
    "test"
   ]
  },
  {
   "cell_type": "markdown",
   "id": "2e82b9e1",
   "metadata": {},
   "source": [
    "### Classification plot"
   ]
  },
  {
   "cell_type": "code",
   "execution_count": 338,
   "id": "d952ed9f",
   "metadata": {},
   "outputs": [],
   "source": [
    "#%% PLOT \n",
    "\n",
    "#  times = epochs_list[0].times\n",
    "# times = np.arange(-0.200, 0.501, 0.001)\n",
    "    \n",
    "def plot_classfication(times, mean_scores, fig_name, title=None, subtitle = None, save_fig = False):\n",
    "    plt.figure()\n",
    "    plt.plot(times, mean_scores)\n",
    "    plt.hlines(0.50, times[0], times[-1], linestyle='dashed', color='k')\n",
    "    plt.ylabel('Proportion classified correctly')\n",
    "    plt.xlabel('Time (s)')\n",
    "    if title is None:\n",
    "        plt.title('please write a title')\n",
    "    else:\n",
    "        plt.title(title)\n",
    "\n",
    "    if subtitle is None: \n",
    "        plt.suptitle('test')\n",
    "    else:\n",
    "        plt.suptitle(subtitle)\n",
    "\n",
    "    # saving fig\n",
    "    if save_fig:\n",
    "        path = \"figures/\"\n",
    "        #fig_name_here = join(fig_name + \"%s\" + \".png\") % (par_no)\n",
    "        fig_name_here = join(fig_name + \"all_par\" + \".png\")\n",
    "        plt.savefig(path + fig_name_here)\n",
    "    plt.show()\n"
   ]
  },
  {
   "cell_type": "code",
   "execution_count": 339,
   "id": "2720e0e8",
   "metadata": {},
   "outputs": [
    {
     "data": {
      "image/png": "[encoded data removed]",
      "text/plain": [
       "<Figure size 432x288 with 1 Axes>"
      ]
     },
     "metadata": {
      "needs_background": "light"
     },
     "output_type": "display_data"
    }
   ],
   "source": [
    "# plot\n",
    "plot_classfication(\n",
    "    epochs_list[0].times, \n",
    "    fusiform_both_all_participants.iloc[:,6],\n",
    "    #mean_scores_fu_both,\n",
    "    fig_name = \"fusiform_both_\",\n",
    "    title = \"Word vs image trials in the fusiform gyri (both hemispheres)\", \n",
    "    #subtitle = \"Participant %s\" % (par_no),\n",
    "    subtitle = 'Mean acc. across participants',\n",
    "    save_fig = True)\n"
   ]
  },
  {
   "cell_type": "markdown",
   "id": "7dd68b6f",
   "metadata": {},
   "source": [
    "### Add mean column to dataframe"
   ]
  },
  {
   "cell_type": "code",
   "execution_count": 332,
   "id": "2ce04eb8",
   "metadata": {},
   "outputs": [
    {
     "name": "stdout",
     "output_type": "stream",
     "text": [
      "       par_85    par_86    par_87    par_88    par_89    par_95      mean\n",
      "0    0.519444  0.515278  0.572222  0.531944  0.525000  0.543056  0.534491\n",
      "1    0.494444  0.527778  0.558333  0.519444  0.523611  0.565278  0.531481\n",
      "2    0.502778  0.540278  0.568056  0.497222  0.512500  0.587500  0.534722\n",
      "3    0.486111  0.545833  0.523611  0.540278  0.527778  0.568056  0.531944\n",
      "4    0.522222  0.558333  0.544444  0.552778  0.487500  0.518056  0.530556\n",
      "..        ...       ...       ...       ...       ...       ...       ...\n",
      "171  0.659722  0.723611  0.784722  0.787500  0.747222  0.695833  0.733102\n",
      "172  0.663889  0.713889  0.787500  0.772222  0.750000  0.704167  0.731944\n",
      "173  0.661111  0.693056  0.791667  0.763889  0.744444  0.713889  0.728009\n",
      "174  0.641667  0.709722  0.777778  0.750000  0.745833  0.705556  0.721759\n",
      "175  0.637500  0.727778  0.781944  0.758333  0.747222  0.677778  0.721759\n",
      "\n",
      "[176 rows x 7 columns]\n"
     ]
    }
   ],
   "source": [
    "# Create mean column in big DF\n",
    "fusiform_both_all_participants['mean'] = fusiform_both_all_participants.mean(axis = 1)\n",
    "print(fusiform_both_all_participants)"
   ]
  },
  {
   "cell_type": "code",
   "execution_count": 333,
   "id": "e26d51fd",
   "metadata": {},
   "outputs": [],
   "source": [
    "# save to csv\n",
    "fusiform_both_all_participants.to_csv(\"fusiform_both_all_participants.csv\", index = False)"
   ]
  },
  {
   "cell_type": "code",
   "execution_count": 366,
   "id": "f1f141c6",
   "metadata": {},
   "outputs": [
    {
     "data": {
      "text/html": [
       "<div>\n",
       "<style scoped>\n",
       "    .dataframe tbody tr th:only-of-type {\n",
       "        vertical-align: middle;\n",
       "    }\n",
       "\n",
       "    .dataframe tbody tr th {\n",
       "        vertical-align: top;\n",
       "    }\n",
       "\n",
       "    .dataframe thead th {\n",
       "        text-align: right;\n",
       "    }\n",
       "</style>\n",
       "<table border=\"1\" class=\"dataframe\">\n",
       "  <thead>\n",
       "    <tr style=\"text-align: right;\">\n",
       "      <th></th>\n",
       "      <th>par_85</th>\n",
       "      <th>par_86</th>\n",
       "      <th>par_87</th>\n",
       "      <th>par_88</th>\n",
       "      <th>par_89</th>\n",
       "      <th>par_95</th>\n",
       "      <th>mean</th>\n",
       "    </tr>\n",
       "  </thead>\n",
       "  <tbody>\n",
       "    <tr>\n",
       "      <th>0</th>\n",
       "      <td>0.495833</td>\n",
       "      <td>0.513889</td>\n",
       "      <td>0.513889</td>\n",
       "      <td>0.508333</td>\n",
       "      <td>0.486111</td>\n",
       "      <td>0.550000</td>\n",
       "      <td>0.511343</td>\n",
       "    </tr>\n",
       "    <tr>\n",
       "      <th>1</th>\n",
       "      <td>0.531944</td>\n",
       "      <td>0.504167</td>\n",
       "      <td>0.504167</td>\n",
       "      <td>0.481944</td>\n",
       "      <td>0.544444</td>\n",
       "      <td>0.565278</td>\n",
       "      <td>0.521991</td>\n",
       "    </tr>\n",
       "    <tr>\n",
       "      <th>2</th>\n",
       "      <td>0.540278</td>\n",
       "      <td>0.541667</td>\n",
       "      <td>0.541667</td>\n",
       "      <td>0.520833</td>\n",
       "      <td>0.565278</td>\n",
       "      <td>0.581944</td>\n",
       "      <td>0.548611</td>\n",
       "    </tr>\n",
       "    <tr>\n",
       "      <th>3</th>\n",
       "      <td>0.522222</td>\n",
       "      <td>0.533333</td>\n",
       "      <td>0.533333</td>\n",
       "      <td>0.529167</td>\n",
       "      <td>0.562500</td>\n",
       "      <td>0.562500</td>\n",
       "      <td>0.540509</td>\n",
       "    </tr>\n",
       "    <tr>\n",
       "      <th>4</th>\n",
       "      <td>0.512500</td>\n",
       "      <td>0.522222</td>\n",
       "      <td>0.522222</td>\n",
       "      <td>0.529167</td>\n",
       "      <td>0.559722</td>\n",
       "      <td>0.563889</td>\n",
       "      <td>0.534954</td>\n",
       "    </tr>\n",
       "    <tr>\n",
       "      <th>...</th>\n",
       "      <td>...</td>\n",
       "      <td>...</td>\n",
       "      <td>...</td>\n",
       "      <td>...</td>\n",
       "      <td>...</td>\n",
       "      <td>...</td>\n",
       "      <td>...</td>\n",
       "    </tr>\n",
       "    <tr>\n",
       "      <th>171</th>\n",
       "      <td>0.594444</td>\n",
       "      <td>0.637500</td>\n",
       "      <td>0.637500</td>\n",
       "      <td>0.590278</td>\n",
       "      <td>0.588889</td>\n",
       "      <td>0.593056</td>\n",
       "      <td>0.606944</td>\n",
       "    </tr>\n",
       "    <tr>\n",
       "      <th>172</th>\n",
       "      <td>0.590278</td>\n",
       "      <td>0.612500</td>\n",
       "      <td>0.612500</td>\n",
       "      <td>0.595833</td>\n",
       "      <td>0.595833</td>\n",
       "      <td>0.586111</td>\n",
       "      <td>0.598843</td>\n",
       "    </tr>\n",
       "    <tr>\n",
       "      <th>173</th>\n",
       "      <td>0.576389</td>\n",
       "      <td>0.588889</td>\n",
       "      <td>0.588889</td>\n",
       "      <td>0.626389</td>\n",
       "      <td>0.568056</td>\n",
       "      <td>0.586111</td>\n",
       "      <td>0.589120</td>\n",
       "    </tr>\n",
       "    <tr>\n",
       "      <th>174</th>\n",
       "      <td>0.565278</td>\n",
       "      <td>0.595833</td>\n",
       "      <td>0.595833</td>\n",
       "      <td>0.638889</td>\n",
       "      <td>0.548611</td>\n",
       "      <td>0.593056</td>\n",
       "      <td>0.589583</td>\n",
       "    </tr>\n",
       "    <tr>\n",
       "      <th>175</th>\n",
       "      <td>0.566667</td>\n",
       "      <td>0.584722</td>\n",
       "      <td>0.584722</td>\n",
       "      <td>0.643056</td>\n",
       "      <td>0.547222</td>\n",
       "      <td>0.593056</td>\n",
       "      <td>0.586574</td>\n",
       "    </tr>\n",
       "  </tbody>\n",
       "</table>\n",
       "<p>176 rows × 7 columns</p>\n",
       "</div>"
      ],
      "text/plain": [
       "       par_85    par_86    par_87    par_88    par_89    par_95      mean\n",
       "0    0.495833  0.513889  0.513889  0.508333  0.486111  0.550000  0.511343\n",
       "1    0.531944  0.504167  0.504167  0.481944  0.544444  0.565278  0.521991\n",
       "2    0.540278  0.541667  0.541667  0.520833  0.565278  0.581944  0.548611\n",
       "3    0.522222  0.533333  0.533333  0.529167  0.562500  0.562500  0.540509\n",
       "4    0.512500  0.522222  0.522222  0.529167  0.559722  0.563889  0.534954\n",
       "..        ...       ...       ...       ...       ...       ...       ...\n",
       "171  0.594444  0.637500  0.637500  0.590278  0.588889  0.593056  0.606944\n",
       "172  0.590278  0.612500  0.612500  0.595833  0.595833  0.586111  0.598843\n",
       "173  0.576389  0.588889  0.588889  0.626389  0.568056  0.586111  0.589120\n",
       "174  0.565278  0.595833  0.595833  0.638889  0.548611  0.593056  0.589583\n",
       "175  0.566667  0.584722  0.584722  0.643056  0.547222  0.593056  0.586574\n",
       "\n",
       "[176 rows x 7 columns]"
      ]
     },
     "execution_count": 366,
     "metadata": {},
     "output_type": "execute_result"
    }
   ],
   "source": [
    "# read the csv and check that it is saved\n",
    "test = pd.read_csv(\"/work/SigridAgersnapBomNielsen#1365/MEG_data_analysis/BA45_all_participants.csv\")\n",
    "test"
   ]
  },
  {
   "cell_type": "code",
   "execution_count": 368,
   "id": "f2c36b09",
   "metadata": {},
   "outputs": [],
   "source": [
    "mean = test[\"mean\"].mean()"
   ]
  },
  {
   "cell_type": "code",
   "execution_count": 369,
   "id": "c4e8a9b6",
   "metadata": {},
   "outputs": [
    {
     "data": {
      "text/plain": [
       "0.5583964646464646"
      ]
     },
     "execution_count": 369,
     "metadata": {},
     "output_type": "execute_result"
    }
   ],
   "source": [
    "mean"
   ]
  },
  {
   "cell_type": "code",
   "execution_count": 370,
   "id": "ec455605",
   "metadata": {},
   "outputs": [
    {
     "data": {
      "text/plain": [
       "0.56"
      ]
     },
     "execution_count": 370,
     "metadata": {},
     "output_type": "execute_result"
    }
   ],
   "source": [
    "round(mean, 2)"
   ]
  },
  {
   "cell_type": "code",
   "execution_count": null,
   "id": "fa7a5810",
   "metadata": {},
   "outputs": [],
   "source": [
    "# getting mean without before the stimulus is shown- don't know if needed"
   ]
  },
  {
   "cell_type": "markdown",
   "id": "bfeb4aa0",
   "metadata": {},
   "source": [
    "Then, plot again."
   ]
  },
  {
   "cell_type": "markdown",
   "id": "ed133da0",
   "metadata": {},
   "source": [
    "#### Trying to get a mean for baseline and for after showing the stim"
   ]
  },
  {
   "cell_type": "code",
   "execution_count": 371,
   "id": "738fecbf",
   "metadata": {},
   "outputs": [],
   "source": [
    "BA45_par86 = pd.read_csv(\"/work/SigridAgersnapBomNielsen#1365/MEG_data_analysis/mean_scores/mean_scores_BA45_lh_86.csv\")\n"
   ]
  },
  {
   "cell_type": "code",
   "execution_count": 372,
   "id": "b8677aa8",
   "metadata": {},
   "outputs": [
    {
     "data": {
      "text/html": [
       "<div>\n",
       "<style scoped>\n",
       "    .dataframe tbody tr th:only-of-type {\n",
       "        vertical-align: middle;\n",
       "    }\n",
       "\n",
       "    .dataframe tbody tr th {\n",
       "        vertical-align: top;\n",
       "    }\n",
       "\n",
       "    .dataframe thead th {\n",
       "        text-align: right;\n",
       "    }\n",
       "</style>\n",
       "<table border=\"1\" class=\"dataframe\">\n",
       "  <thead>\n",
       "    <tr style=\"text-align: right;\">\n",
       "      <th></th>\n",
       "      <th>par_86</th>\n",
       "    </tr>\n",
       "  </thead>\n",
       "  <tbody>\n",
       "    <tr>\n",
       "      <th>0</th>\n",
       "      <td>0.513889</td>\n",
       "    </tr>\n",
       "    <tr>\n",
       "      <th>1</th>\n",
       "      <td>0.504167</td>\n",
       "    </tr>\n",
       "    <tr>\n",
       "      <th>2</th>\n",
       "      <td>0.541667</td>\n",
       "    </tr>\n",
       "    <tr>\n",
       "      <th>3</th>\n",
       "      <td>0.533333</td>\n",
       "    </tr>\n",
       "    <tr>\n",
       "      <th>4</th>\n",
       "      <td>0.522222</td>\n",
       "    </tr>\n",
       "    <tr>\n",
       "      <th>...</th>\n",
       "      <td>...</td>\n",
       "    </tr>\n",
       "    <tr>\n",
       "      <th>171</th>\n",
       "      <td>0.637500</td>\n",
       "    </tr>\n",
       "    <tr>\n",
       "      <th>172</th>\n",
       "      <td>0.612500</td>\n",
       "    </tr>\n",
       "    <tr>\n",
       "      <th>173</th>\n",
       "      <td>0.588889</td>\n",
       "    </tr>\n",
       "    <tr>\n",
       "      <th>174</th>\n",
       "      <td>0.595833</td>\n",
       "    </tr>\n",
       "    <tr>\n",
       "      <th>175</th>\n",
       "      <td>0.584722</td>\n",
       "    </tr>\n",
       "  </tbody>\n",
       "</table>\n",
       "<p>176 rows × 1 columns</p>\n",
       "</div>"
      ],
      "text/plain": [
       "       par_86\n",
       "0    0.513889\n",
       "1    0.504167\n",
       "2    0.541667\n",
       "3    0.533333\n",
       "4    0.522222\n",
       "..        ...\n",
       "171  0.637500\n",
       "172  0.612500\n",
       "173  0.588889\n",
       "174  0.595833\n",
       "175  0.584722\n",
       "\n",
       "[176 rows x 1 columns]"
      ]
     },
     "execution_count": 372,
     "metadata": {},
     "output_type": "execute_result"
    }
   ],
   "source": [
    "BA45_par86"
   ]
  },
  {
   "cell_type": "markdown",
   "id": "13f0a5b5",
   "metadata": {},
   "source": [
    "We have 176 measurements. Now we need to figure out how many measurements we have before and after the onset of the stim."
   ]
  },
  {
   "cell_type": "code",
   "execution_count": 389,
   "id": "fec6c72a",
   "metadata": {},
   "outputs": [
    {
     "data": {
      "text/plain": [
       "(-0.2, 0.0)"
      ]
     },
     "execution_count": 389,
     "metadata": {},
     "output_type": "execute_result"
    }
   ],
   "source": [
    "epochs_list[0].baseline"
   ]
  },
  {
   "cell_type": "markdown",
   "id": "1cb5a7bd",
   "metadata": {},
   "source": [
    "make a list which states whether the timestamp is more than or equal to zero"
   ]
  },
  {
   "cell_type": "code",
   "execution_count": 401,
   "id": "1bd78ba6",
   "metadata": {},
   "outputs": [],
   "source": [
    "test_include = epochs_list[0].times >= 0"
   ]
  },
  {
   "cell_type": "code",
   "execution_count": 402,
   "id": "4dacdead",
   "metadata": {},
   "outputs": [
    {
     "data": {
      "text/plain": [
       "array([False, False, False, False, False, False, False, False, False,\n",
       "       False, False, False, False, False, False, False, False, False,\n",
       "       False, False, False, False, False, False, False, False, False,\n",
       "       False, False, False, False, False, False, False, False, False,\n",
       "       False, False, False, False, False, False, False, False, False,\n",
       "       False, False, False, False, False,  True,  True,  True,  True,\n",
       "        True,  True,  True,  True,  True,  True,  True,  True,  True,\n",
       "        True,  True,  True,  True,  True,  True,  True,  True,  True,\n",
       "        True,  True,  True,  True,  True,  True,  True,  True,  True,\n",
       "        True,  True,  True,  True,  True,  True,  True,  True,  True,\n",
       "        True,  True,  True,  True,  True,  True,  True,  True,  True,\n",
       "        True,  True,  True,  True,  True,  True,  True,  True,  True,\n",
       "        True,  True,  True,  True,  True,  True,  True,  True,  True,\n",
       "        True,  True,  True,  True,  True,  True,  True,  True,  True,\n",
       "        True,  True,  True,  True,  True,  True,  True,  True,  True,\n",
       "        True,  True,  True,  True,  True,  True,  True,  True,  True,\n",
       "        True,  True,  True,  True,  True,  True,  True,  True,  True,\n",
       "        True,  True,  True,  True,  True,  True,  True,  True,  True,\n",
       "        True,  True,  True,  True,  True,  True,  True,  True,  True,\n",
       "        True,  True,  True,  True,  True])"
      ]
     },
     "execution_count": 402,
     "metadata": {},
     "output_type": "execute_result"
    }
   ],
   "source": [
    "test_include"
   ]
  },
  {
   "cell_type": "markdown",
   "id": "78c73388",
   "metadata": {},
   "source": [
    "count the number of true values"
   ]
  },
  {
   "cell_type": "code",
   "execution_count": 403,
   "id": "12fe7c1f",
   "metadata": {},
   "outputs": [
    {
     "data": {
      "text/plain": [
       "126"
      ]
     },
     "execution_count": 403,
     "metadata": {},
     "output_type": "execute_result"
    }
   ],
   "source": [
    "np.count_nonzero(test_include)"
   ]
  },
  {
   "cell_type": "markdown",
   "id": "f92073fc",
   "metadata": {},
   "source": [
    "126 measurements after stim onset. which leaves us with:"
   ]
  },
  {
   "cell_type": "code",
   "execution_count": 404,
   "id": "027af385",
   "metadata": {},
   "outputs": [
    {
     "data": {
      "text/plain": [
       "50"
      ]
     },
     "execution_count": 404,
     "metadata": {},
     "output_type": "execute_result"
    }
   ],
   "source": [
    "176-126"
   ]
  },
  {
   "cell_type": "markdown",
   "id": "6781edee",
   "metadata": {},
   "source": [
    "50 measurements before stim onset. now to calculate the mean before and after stim onset"
   ]
  },
  {
   "cell_type": "code",
   "execution_count": 405,
   "id": "90ccbac9",
   "metadata": {},
   "outputs": [],
   "source": [
    "BA = pd.read_csv(\"/work/SigridAgersnapBomNielsen#1365/MEG_data_analysis/BA45_all_participants.csv\")\n",
    "fus = pd.read_csv(\"/work/SigridAgersnapBomNielsen#1365/MEG_data_analysis/fusiform_both_all_participants.csv\")"
   ]
  },
  {
   "cell_type": "markdown",
   "id": "0ef3467d",
   "metadata": {},
   "source": [
    "select the first 50 rows to calculate a mean before stim onset"
   ]
  },
  {
   "cell_type": "code",
   "execution_count": 408,
   "id": "6ed8b437",
   "metadata": {},
   "outputs": [],
   "source": [
    "BA_50 = BA.head(50)\n",
    "BA_mean_before_stim = BA_50[\"mean\"].mean()\n",
    "round(BA_mean_before_stim, 2)"
   ]
  },
  {
   "cell_type": "markdown",
   "id": "092dd523",
   "metadata": {},
   "source": [
    "select the last 126 rows"
   ]
  },
  {
   "cell_type": "code",
   "execution_count": 411,
   "id": "9e608cbf",
   "metadata": {},
   "outputs": [],
   "source": [
    "BA_126 = BA.tail(126)\n",
    "BA_mean_after_stim = BA_126[\"mean\"].mean()\n",
    "round(BA_mean_after_stim, 2)"
   ]
  },
  {
   "cell_type": "markdown",
   "id": "e61fda69",
   "metadata": {},
   "source": [
    "Now the same, but for the fusiform gyri"
   ]
  },
  {
   "cell_type": "code",
   "execution_count": 415,
   "id": "56b7dbab",
   "metadata": {},
   "outputs": [
    {
     "data": {
      "text/plain": [
       "0.52"
      ]
     },
     "execution_count": 415,
     "metadata": {},
     "output_type": "execute_result"
    }
   ],
   "source": [
    "fus_50 = fus.head(50)\n",
    "fus_mean_before_stim = fus_50[\"mean\"].mean()\n",
    "round(fus_mean_before_stim, 2)"
   ]
  },
  {
   "cell_type": "code",
   "execution_count": 416,
   "id": "e403dfb1",
   "metadata": {},
   "outputs": [
    {
     "data": {
      "text/plain": [
       "0.69"
      ]
     },
     "execution_count": 416,
     "metadata": {},
     "output_type": "execute_result"
    }
   ],
   "source": [
    "fus_126 = fus.tail(126)\n",
    "fus_mean_after_stim = fus_126[\"mean\"].mean()\n",
    "round(fus_mean_after_stim, 2)"
   ]
  },
  {
   "cell_type": "markdown",
   "id": "d081cc20",
   "metadata": {},
   "source": [
    "# Permutation test"
   ]
  },
  {
   "cell_type": "code",
   "execution_count": 10,
   "id": "cf6b4579",
   "metadata": {},
   "outputs": [],
   "source": [
    "from sklearn.linear_model import LogisticRegression\n",
    "from sklearn.preprocessing import StandardScaler\n",
    "from sklearn.model_selection import cross_val_score, StratifiedKFold\n",
    "from sklearn.model_selection import permutation_test_score"
   ]
  },
  {
   "cell_type": "code",
   "execution_count": 340,
   "id": "7ff1d75f",
   "metadata": {},
   "outputs": [
    {
     "name": "stdout",
     "output_type": "stream",
     "text": [
      "Classification Accuracy: 0.6777777777777778 (pvalue : 0.000999000999000999)\n"
     ]
    }
   ],
   "source": [
    "# indledende øvelser fra simple class function (need to do it again, because it only functions locally in a function)\n",
    "X = X_fusiform_both.copy()\n",
    "#print(X.shape)\n",
    "\n",
    "n_samples = X.shape[2]\n",
    "\n",
    "#standardizing the X\n",
    "sc = StandardScaler() # especially necessary for sensor space as\n",
    "                          ## magnetometers\n",
    "                          # and gradiometers are on different scales \n",
    "                          ## (T and T/m)\n",
    "    \n",
    "for sample_index in range(n_samples):\n",
    "    this_X = X[:, :, sample_index]\n",
    "    sc.fit(this_X)\n",
    "    this_X_std = sc.transform(this_X)\n",
    "\n",
    "# calculating the permutation test score\n",
    "score, permutation_scores, pvalue = permutation_test_score(\n",
    "    LogisticRegression(penalty=\"l2\", C=1e-3, solver='newton-cg'),\n",
    "    this_X_std, collapsed_y, cv=StratifiedKFold(), n_permutations=1000, \n",
    "    n_jobs=1, random_state=0, verbose=0, scoring=None)\n",
    "print(\"Classification Accuracy: %s (pvalue : %s)\" % (score, pvalue))"
   ]
  },
  {
   "cell_type": "code",
   "execution_count": 341,
   "id": "fb08e32b",
   "metadata": {},
   "outputs": [
    {
     "name": "stdout",
     "output_type": "stream",
     "text": [
      "0.6777777777777778\n",
      "0.000999000999000999\n",
      "95\n"
     ]
    }
   ],
   "source": [
    "# checking\n",
    "print(score)\n",
    "print(pvalue)\n",
    "print(par_no)"
   ]
  },
  {
   "cell_type": "code",
   "execution_count": null,
   "id": "251b4bc7",
   "metadata": {},
   "outputs": [],
   "source": [
    "# create a pd dataframe which saves participant number, classification accuracy score and p-value\n",
    "# ONLY RUN THIS THE FIRST TIME\n",
    "# df_perm = pd.DataFrame({'participant' : [par_no],\n",
    "#                     'class_acc': [score],\n",
    "#                     'permutation_p_val': [pvalue]})\n",
    "# print(df_perm)"
   ]
  },
  {
   "cell_type": "code",
   "execution_count": 342,
   "id": "bec0fefc",
   "metadata": {},
   "outputs": [
    {
     "name": "stdout",
     "output_type": "stream",
     "text": [
      "   participant  class_acc  permutation_p_val\n",
      "0           85   0.637500           0.000999\n",
      "1           86   0.727778           0.000999\n",
      "2           87   0.781944           0.000999\n",
      "3           88   0.758333           0.000999\n",
      "4           89   0.747222           0.000999\n",
      "5           95   0.677778           0.000999\n"
     ]
    },
    {
     "name": "stderr",
     "output_type": "stream",
     "text": [
      "/tmp/ipykernel_381/1048796819.py:6: FutureWarning: The frame.append method is deprecated and will be removed from pandas in a future version. Use pandas.concat instead.\n",
      "  df_perm = df_perm.append(temp, ignore_index=True)\n"
     ]
    }
   ],
   "source": [
    "# append new values to df\n",
    "temp = pd.DataFrame({'participant' : [par_no],\n",
    "                    'class_acc': [score],\n",
    "                    'permutation_p_val': [pvalue]})\n",
    "\n",
    "df_perm = df_perm.append(temp, ignore_index=True)\n",
    "print(df_perm)"
   ]
  },
  {
   "cell_type": "code",
   "execution_count": 343,
   "id": "dda18b10",
   "metadata": {},
   "outputs": [],
   "source": [
    "# save df\n",
    "df_perm.to_csv(\"mean_scores/df_perm_fusiform.csv\", index = False)"
   ]
  },
  {
   "cell_type": "code",
   "execution_count": 344,
   "id": "4e52dfbd",
   "metadata": {},
   "outputs": [
    {
     "name": "stdout",
     "output_type": "stream",
     "text": [
      "   participant  class_acc  permutation_p_val\n",
      "0           85   0.637500           0.000999\n",
      "1           86   0.727778           0.000999\n",
      "2           87   0.781944           0.000999\n",
      "3           88   0.758333           0.000999\n",
      "4           89   0.747222           0.000999\n",
      "5           95   0.677778           0.000999\n"
     ]
    }
   ],
   "source": [
    "# testing - it works\n",
    "test = pd.read_csv(\"mean_scores/df_perm_fusiform.csv\")\n",
    "print(test)"
   ]
  },
  {
   "cell_type": "markdown",
   "id": "2ec81081",
   "metadata": {},
   "source": [
    "df = pd.DataFrame({'points': [10, 12, 12, 14, 13, 18],\n",
    "                   'rebounds': [7, 7, 8, 13, 7, 4],\n",
    "                   'assists': [11, 8, 10, 6, 6, 5]})"
   ]
  },
  {
   "cell_type": "markdown",
   "id": "180ce87c",
   "metadata": {},
   "source": [
    "### Save X_std and collapsed y per participant"
   ]
  },
  {
   "cell_type": "code",
   "execution_count": 345,
   "id": "07fe7bd7",
   "metadata": {},
   "outputs": [],
   "source": [
    "# save X_std ######### \n",
    "np.savetxt(\"preprocessed_data/X_fusiform_both_std_%s.csv\" % (par_no), this_X_std, delimiter=\",\")"
   ]
  },
  {
   "cell_type": "code",
   "execution_count": 175,
   "id": "e5165039",
   "metadata": {},
   "outputs": [],
   "source": [
    "# save y_collapsed ###### \n",
    "#np.savetxt(\"preprocessed_data/collapsed_y%s.csv\" % (par_no), collapsed_y, delimiter = \",\")"
   ]
  },
  {
   "cell_type": "code",
   "execution_count": 138,
   "id": "4ebd608b",
   "metadata": {},
   "outputs": [
    {
     "name": "stdout",
     "output_type": "stream",
     "text": [
      "(720,)\n"
     ]
    }
   ],
   "source": [
    "#testing that it works - it does\n",
    "from numpy import genfromtxt\n",
    "\n",
    "test = genfromtxt('preprocessed_data/collapsed_y_85.csv', delimiter=',')\n",
    "print(test.shape)"
   ]
  },
  {
   "cell_type": "markdown",
   "id": "fd942d3c",
   "metadata": {},
   "source": [
    "### Permutation plot"
   ]
  },
  {
   "cell_type": "code",
   "execution_count": 346,
   "id": "8820109d",
   "metadata": {},
   "outputs": [
    {
     "data": {
      "image/png": "[encoded data removed]",
      "text/plain": [
       "<Figure size 432x288 with 1 Axes>"
      ]
     },
     "metadata": {
      "needs_background": "light"
     },
     "output_type": "display_data"
    }
   ],
   "source": [
    "#How many classes\n",
    "n_classes = np.unique(collapsed_y).size\n",
    "\n",
    "# round p val\n",
    "pvalue = round(pvalue,7)\n",
    "\n",
    "plt.hist(permutation_scores, 20, label='Permutation scores',\n",
    "         edgecolor='black')\n",
    "ylim = plt.ylim()\n",
    "plt.plot(2 * [score], ylim, '--g', linewidth=3,\n",
    "         label='Classification Score'\n",
    "         ' (pvalue %s)' % pvalue)\n",
    "plt.plot(2 * [1. / n_classes], ylim, '--k', linewidth=3, label='Chance level')\n",
    "\n",
    "plt.ylim(ylim)\n",
    "plt.legend()\n",
    "plt.xlabel('Score')\n",
    "plt.title(\"Permutation test of participant %s\" % (par_no))\n",
    "plt.suptitle(\"Classification of trial type in the fusiform gyri\")\n",
    "savefig_here = \"figures/fusiform_both_%s_permutation.png\" % (par_no)\n",
    "plt.savefig(savefig_here)\n",
    "\n",
    "plt.show()"
   ]
  }
 ],
 "metadata": {
  "kernelspec": {
   "display_name": "Python 3 ",
   "language": "python",
   "name": "python3"
  },
  "language_info": {
   "codemirror_mode": {
    "name": "ipython",
    "version": 3
   },
   "file_extension": ".py",
   "mimetype": "text/x-python",
   "name": "python",
   "nbconvert_exporter": "python",
   "pygments_lexer": "ipython3",
   "version": "3.9.2"
  }
 },
 "nbformat": 4,
 "nbformat_minor": 5
}
