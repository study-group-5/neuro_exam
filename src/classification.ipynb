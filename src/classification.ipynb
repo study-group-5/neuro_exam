{
 "cells": [
  {
   "cell_type": "markdown",
   "metadata": {},
   "source": [
    "# Making a trial by trial fit of faceWord dataand using that for searchligth classificiation\n",
    "\n",
    "This tutorial will load models and data from tutorial 13 and change the design matrix to one that gives a beta estimate for each trial."
   ]
  },
  {
   "cell_type": "code",
   "execution_count": null,
   "metadata": {
    "execution": {
     "iopub.execute_input": "2022-11-10T13:45:20.868079Z",
     "iopub.status.busy": "2022-11-10T13:45:20.867364Z",
     "iopub.status.idle": "2022-11-10T13:45:42.691216Z",
     "shell.execute_reply": "2022-11-10T13:45:42.690219Z",
     "shell.execute_reply.started": "2022-11-10T13:45:20.868041Z"
    },
    "tags": []
   },
   "outputs": [],
   "source": [
    "# import some functionality\n",
    "from datetime import datetime\n",
    "\n",
    "now = datetime.now()\n",
    "print('Starting cell:',now.strftime(\"%H:%M:%S\"))\n",
    "import os\n",
    "import pip\n",
    "os.system('python3 -m pip install numpy')\n",
    "os.system('python3 -m pip install matplotlib')\n",
    "os.system('python3 -m pip install scipy')\n",
    "os.system('python3 -m pip install panda')\n",
    "os.system('python3 -m pip install nilearn')\n",
    "os.system('python3 -m pip install sklearn')\n",
    "os.system('python3 -m pip install pickle')\n",
    "os.system('python3 -m pip install atlasreader')\n",
    "\n",
    "#import os.path as op\n",
    "import numpy as np\n",
    "from numpy.linalg import inv\n",
    "import nibabel as nib\n",
    "import matplotlib.pyplot as plt\n",
    "from scipy.ndimage import gaussian_filter\n",
    "\n",
    "%matplotlib inline\n",
    "\n",
    "now = datetime.now()\n",
    "print('Finishing cell:',now.strftime(\"%H:%M:%S\"))"
   ]
  },
  {
   "cell_type": "code",
   "execution_count": null,
   "metadata": {
    "execution": {
     "iopub.execute_input": "2022-11-10T13:45:42.692503Z",
     "iopub.status.busy": "2022-11-10T13:45:42.692176Z",
     "iopub.status.idle": "2022-11-10T13:46:10.867544Z",
     "shell.execute_reply": "2022-11-10T13:46:10.865778Z",
     "shell.execute_reply.started": "2022-11-10T13:45:42.692480Z"
    },
    "tags": []
   },
   "outputs": [],
   "source": [
    "import pickle\n",
    "\n",
    "now = datetime.now()\n",
    "print('Starting cell:',now.strftime(\"%H:%M:%S\"))\n",
    "\n",
    "# Getting back the objects:\n",
    "f = open('/work/fMRI Assignment/neuro_exam/fMRI_data_analyzed/WordFace_first_level_our_contrast.pkl', 'rb')\n",
    "models, models_run_imgs, models_events, models_confounds = pickle.load(f)\n",
    "f.close()\n",
    "\n",
    "\n",
    "now = datetime.now()\n",
    "print('Finishing cell:',now.strftime(\"%H:%M:%S\"))"
   ]
  },
  {
   "cell_type": "code",
   "execution_count": null,
   "metadata": {
    "execution": {
     "iopub.execute_input": "2022-11-10T13:46:10.870194Z",
     "iopub.status.busy": "2022-11-10T13:46:10.869701Z",
     "iopub.status.idle": "2022-11-10T13:46:10.875972Z",
     "shell.execute_reply": "2022-11-10T13:46:10.874889Z",
     "shell.execute_reply.started": "2022-11-10T13:46:10.870160Z"
    }
   },
   "outputs": [],
   "source": [
    "### Figuring out what is in the models_events variable"
   ]
  },
  {
   "cell_type": "code",
   "execution_count": null,
   "metadata": {
    "execution": {
     "iopub.execute_input": "2022-11-10T13:46:10.877822Z",
     "iopub.status.busy": "2022-11-10T13:46:10.877415Z",
     "iopub.status.idle": "2022-11-10T13:46:11.260147Z",
     "shell.execute_reply": "2022-11-10T13:46:11.258950Z",
     "shell.execute_reply.started": "2022-11-10T13:46:10.877793Z"
    },
    "tags": []
   },
   "outputs": [],
   "source": [
    "#print(models_events[0])\n",
    "print(models_confounds[0][0].shape)\n",
    "ons=models_events[0][0]['onset']\n",
    "\n",
    "for ii in range(len(models_events[0])):\n",
    "    print(models_events[0][ii])\n",
    "    \n",
    "now = datetime.now()\n",
    "print('Finishing cell:',now.strftime(\"%H:%M:%S\"))"
   ]
  },
  {
   "cell_type": "markdown",
   "metadata": {
    "execution": {
     "iopub.execute_input": "2022-11-10T13:05:51.895160Z",
     "iopub.status.busy": "2022-11-10T13:05:51.894703Z",
     "iopub.status.idle": "2022-11-10T13:05:51.899458Z",
     "shell.execute_reply": "2022-11-10T13:05:51.898537Z",
     "shell.execute_reply.started": "2022-11-10T13:05:51.895129Z"
    }
   },
   "source": [
    "## Creating new design matrices with a column per experimental trial."
   ]
  },
  {
   "cell_type": "code",
   "execution_count": null,
   "metadata": {
    "execution": {
     "iopub.execute_input": "2022-11-10T13:46:11.264879Z",
     "iopub.status.busy": "2022-11-10T13:46:11.264375Z",
     "iopub.status.idle": "2022-11-10T13:46:23.208190Z",
     "shell.execute_reply": "2022-11-10T13:46:23.204690Z",
     "shell.execute_reply.started": "2022-11-10T13:46:11.264832Z"
    },
    "tags": []
   },
   "outputs": [],
   "source": [
    "import pandas as pd\n",
    "from nilearn.glm.first_level import make_first_level_design_matrix\n",
    "import numpy as np\n",
    "lsa_dm=[]\n",
    "\n",
    "for ii in range(len(models_events[0])):\n",
    "    #print(models_events[0][ii])\n",
    "    #N=number of events\n",
    "    N=models_events[0][ii].shape[0]\n",
    "    t_fmri = np.linspace(0, 600,600,endpoint=False)\n",
    "    # We have to create a dataframe with onsets/durations/trial_types\n",
    "    # No need for modulation!\n",
    "    trials = pd.DataFrame(models_events[0][ii], columns=['onset'])\n",
    "    trials.loc[:, 'duration'] = 0.7\n",
    "    trials.loc[:, 'trial_type'] = ['t_'+str(i).zfill(3) + '_' + models_events[0][0]['trial_type'][i-1]  for i in range(1, N+1)]\n",
    "\n",
    "    # lsa_dm = least squares all design matrix\n",
    "    lsa_dm.append(make_first_level_design_matrix(\n",
    "        frame_times=t_fmri,  # we defined this earlier \n",
    "        events=trials,\n",
    "        hrf_model='glover',\n",
    "        drift_model='cosine'  \n",
    "    ))\n",
    "\n",
    "# Check out the created design matrix\n",
    "# Note that the index represents the frame times\n",
    "\n",
    "now = datetime.now()\n",
    "print('Finishing cell:',now.strftime(\"%H:%M:%S\"))"
   ]
  },
  {
   "cell_type": "markdown",
   "metadata": {},
   "source": [
    "## Plot the new design matrices"
   ]
  },
  {
   "cell_type": "code",
   "execution_count": null,
   "metadata": {
    "execution": {
     "iopub.execute_input": "2022-11-10T13:46:23.214349Z",
     "iopub.status.busy": "2022-11-10T13:46:23.212069Z"
    },
    "tags": []
   },
   "outputs": [],
   "source": [
    "from nilearn.plotting import plot_design_matrix\n",
    "for ii in range(len(models_events[0])):\n",
    "    plot_design_matrix(lsa_dm[ii]);\n",
    "\n",
    "now = datetime.now()\n",
    "print('Finishing cell:',now.strftime(\"%H:%M:%S\"))"
   ]
  },
  {
   "cell_type": "markdown",
   "metadata": {},
   "source": [
    "## Fit the models for all sessions from one participant"
   ]
  },
  {
   "cell_type": "code",
   "execution_count": null,
   "metadata": {
    "tags": []
   },
   "outputs": [],
   "source": [
    "\n",
    "from nilearn.glm.first_level import FirstLevelModel\n",
    "\n",
    "model1=[]\n",
    "for ii in range(len(models_events[0])):\n",
    "    \n",
    "    # Get data and model info for 1st participant, 1st session\n",
    "    imgs1=models_run_imgs[0][ii]\n",
    "    confounds1=models_confounds[0][ii]\n",
    "    model1.append (FirstLevelModel())\n",
    "    #Fit the model\n",
    "    print('Fitting a GLM')\n",
    "    model1[ii].fit(imgs1,confounds1,design_matrices=lsa_dm[ii])\n",
    "\n",
    "now = datetime.now()\n",
    "print('Finishing cell:',now.strftime(\"%H:%M:%S\"))"
   ]
  },
  {
   "cell_type": "markdown",
   "metadata": {},
   "source": [
    "## Saving/retrieving the fitted models and design matrices"
   ]
  },
  {
   "cell_type": "code",
   "execution_count": null,
   "metadata": {
    "tags": []
   },
   "outputs": [],
   "source": [
    "import pickle\n",
    "\n",
    "# Saving the objects:\n",
    "f = open('/work/fMRI Assignment/neuro_exam/fMRI_data_analyzed/WordFace_first_level_models_all_trials.pkl', 'wb')\n",
    "pickle.dump([model1, lsa_dm], f)\n",
    "f.close()\n",
    "\n",
    "## Getting back the objects:\n",
    "f = open('/work/fMRI Assignment/neuro_exam/fMRI_data_analyzed/WordFace_first_level_models_all_trials.pkl', 'rb')\n",
    "model1, lsa_dm = pickle.load(f)\n",
    "f.close()\n",
    "\n",
    "print(model1[0])\n",
    "now = datetime.now()\n",
    "print('Finishing cell:',now.strftime(\"%H:%M:%S\"))"
   ]
  },
  {
   "cell_type": "markdown",
   "metadata": {},
   "source": [
    "## Making z-map contrasts from the fitted model to use in later analyses"
   ]
  },
  {
   "cell_type": "code",
   "execution_count": null,
   "metadata": {
    "tags": []
   },
   "outputs": [],
   "source": [
    "\n",
    "z_maps = []\n",
    "conditions_label = []\n",
    "\n",
    "for ii in range(len(models_events[0])):\n",
    "    N=models_events[0][ii].shape[0]\n",
    "    #Make an identity matrix with N= number of trials\n",
    "    contrasts=np.eye(N)\n",
    "    print(contrasts.shape)\n",
    "    #Find difference between columns in design matrix and number of trials\n",
    "    dif=lsa_dm[ii].shape[1]-contrasts.shape[1]\n",
    "    print(dif)\n",
    "    #Pad with zeros\n",
    "    contrasts=np.pad(contrasts, ((0,0),(0,dif)),'constant')\n",
    "    print(contrasts.shape)\n",
    "    for i in range(N):\n",
    "        #Add a z-contrast image from each trial\n",
    "        z_maps.append(model1[ii].compute_contrast(contrasts[i,], output_type='z_score'))\n",
    "        # Make a variable with condition labels for use in later classification\n",
    "        conditions_label.append(models_events[0][ii]['trial_type'][i])\n",
    "#        session_label.append(session)\n",
    "\n",
    "now = datetime.now()\n",
    "print('Finishing cell:',now.strftime(\"%H:%M:%S\"))"
   ]
  },
  {
   "cell_type": "markdown",
   "metadata": {},
   "source": [
    "## Saving models and z_maps"
   ]
  },
  {
   "cell_type": "code",
   "execution_count": null,
   "metadata": {
    "tags": []
   },
   "outputs": [],
   "source": [
    "import pickle\n",
    "\n",
    "#Save the first level models\n",
    "\n",
    "\n",
    "# Saving the objects:\n",
    "#f = open('/work/fMRI Assignment/neuro_exam/fMRI_data_analyzed/WordFace_first_level_models_all_trials.pkl', 'wb')\n",
    "#pickle.dump([model1, lsa_dm, conditions_label, z_maps], f)\n",
    "#f.close()\n",
    "\n",
    "\n",
    "# Getting back the objects:\n",
    "f = open('/work/fMRI Assignment/neuro_exam/fMRI_data_analyzed/WordFace_first_level_models_all_trials.pkl', 'rb')\n",
    "model1, lsa_dm, conditions_label, z_maps = pickle.load(f)\n",
    "f.close()\n",
    "\n",
    "now = datetime.now()\n",
    "print('Finishing cell:',now.strftime(\"%H:%M:%S\"))"
   ]
  },
  {
   "cell_type": "markdown",
   "metadata": {},
   "source": [
    "## Reshape data for classification"
   ]
  },
  {
   "cell_type": "code",
   "execution_count": null,
   "metadata": {
    "tags": []
   },
   "outputs": [],
   "source": [
    "\n",
    "now = datetime.now()\n",
    "print('Starting cell:',now.strftime(\"%H:%M:%S\"))\n",
    "\n",
    "import numpy as np\n",
    "#from nilearn import datasets\n",
    "from nilearn.image import new_img_like, load_img, index_img, clean_img\n",
    "from sklearn.model_selection import train_test_split, GroupKFold\n",
    "n_trials=len(conditions_label)\n",
    "print(n_trials)\n",
    "\n",
    "\n",
    "# Reshaping data------------------------------\n",
    "from nilearn.image import index_img, concat_imgs\n",
    "idx_img = [int(i) for i in range(len(conditions_label)) if conditions_label[i] in ['image_neg', \"image_pos\"]]\n",
    "idx_word = [int(i) for i in range(len(conditions_label)) if conditions_label[i] in ['word_pos', \"word_neg\", \"word_neu\"]]\n",
    "\n",
    "#Concatenate trials\n",
    "idx=np.concatenate((idx_img, idx_word))\n",
    "conditions=np.array(conditions_label)[idx]\n",
    "\n",
    "z_maps_conc=concat_imgs(z_maps)\n",
    "print(z_maps_conc.shape)\n",
    "z_maps_img = index_img(z_maps_conc, idx)\n",
    "\n",
    "\n",
    "#from nilearn import plotting\n",
    "\n",
    "#plotting.plot_img(z_maps_img.get_fdata()[77][91][64][719])"
   ]
  },
  {
   "cell_type": "code",
   "execution_count": null,
   "metadata": {},
   "outputs": [],
   "source": []
  },
  {
   "cell_type": "markdown",
   "metadata": {},
   "source": [
    "## create training and testing vars on the basis of class labels"
   ]
  },
  {
   "cell_type": "code",
   "execution_count": null,
   "metadata": {
    "tags": []
   },
   "outputs": [],
   "source": [
    "now = datetime.now()\n",
    "print('Starting cell:',now.strftime(\"%H:%M:%S\"))\n",
    "#conditions_img=conditions[idx]\n",
    "#print(conditions_img)\n",
    "#Make an index for spliting fMRI data with same size as class labels\n",
    "idx2=np.arange(conditions.shape[0])\n",
    "\n",
    "# create training and testing vars on the basis of class labels\n",
    "idx1,idx2, conditions1,  conditions2 = train_test_split(idx2,conditions, test_size=0.2)\n",
    "print(idx1, idx2)\n",
    "\n",
    "# Reshaping data------------------------------\n",
    "from nilearn.image import index_img\n",
    "fmri_img1 = index_img(z_maps_img, idx1)\n",
    "fmri_img2 = index_img(z_maps_img, idx2)\n",
    "#Check data sizes\n",
    "print(fmri_img1.shape)\n",
    "print(fmri_img2.shape)"
   ]
  },
  {
   "cell_type": "code",
   "execution_count": null,
   "metadata": {},
   "outputs": [],
   "source": [
    "### Make a classification on the 2nd split using the best voxels"
   ]
  },
  {
   "cell_type": "code",
   "execution_count": null,
   "metadata": {},
   "outputs": [],
   "source": [
    "\n",
    "# Getting back the objects:\n",
    "f = open('/work/fMRI Assignment/neuro_exam/fMRI_data_analyzed/WordFace_first_level_our_contrast.pkl', 'rb')\n",
    "models, models_run_imgs, models_events, models_confounds = pickle.load(f)\n",
    "f.close()\n",
    "import nibabel as nib\n",
    "test_img = nib.load(models_run_imgs[1][1])"
   ]
  },
  {
   "cell_type": "code",
   "execution_count": 62,
   "metadata": {},
   "outputs": [
    {
     "name": "stdout",
     "output_type": "stream",
     "text": [
      "<class 'nibabel.nifti1.Nifti1Image'>\n",
      "3519\n"
     ]
    },
    {
     "data": {
      "text/plain": [
       "<nilearn.plotting.displays._slicers.OrthoSlicer at 0x7f2e06a60640>"
      ]
     },
     "execution_count": 62,
     "metadata": {},
     "output_type": "execute_result"
    },
    {
     "data": {
      "image/png": "[encoded data removed]",
      "text/plain": [
       "<Figure size 660x260 with 4 Axes>"
      ]
     },
     "metadata": {},
     "output_type": "display_data"
    },
    {
     "data": {
      "image/png": "[encoded data removed]",
      "text/plain": [
       "<Figure size 660x260 with 4 Axes>"
      ]
     },
     "metadata": {},
     "output_type": "display_data"
    }
   ],
   "source": [
    "import nilearn\n",
    "from nilearn import plotting\n",
    "atlas_name = \"SPM12\"\n",
    "\n",
    "atlas = nilearn.datasets.fetch_atlas_aal(atlas_name, data_dir=\"/work/fMRI Assignment/neuro_exam/atlases\", resume=True, verbose=1)\n",
    "\n",
    "# atlas_name = \"maxprob-thr50-2mm\"\n",
    "\n",
    "# atlas = nilearn.datasets.fetch_atlas_juelich(atlas_name, data_dir=\"/work/fMRI Assignment/neuro_exam/atlases\", symmetric_split=False, resume=True, verbose=1)\n",
    "\n",
    "# PREPARING ATLAS\n",
    "atlas_img = nib.load(atlas[\"maps\"])\n",
    "print(type(atlas_img))\n",
    "# Get labels\n",
    "labels = atlas.labels\n",
    "atlas_data = atlas_img.get_fdata()\n",
    "\n",
    "from nilearn.image import resample_img as resample\n",
    "\n",
    "target_affine = test_img.affine\n",
    "\n",
    "shape = test_img.shape\n",
    "target_shape = [shape[0], shape[1], shape[2]]\n",
    "\n",
    "resampled_atlas =resample(atlas_img,target_affine = target_affine, target_shape = target_shape, interpolation = 'nearest')\n",
    "\n",
    "resamp_data = resampled_atlas.get_fdata()\n",
    "\n",
    "mask = resamp_data.copy()\n",
    "\n",
    "\n",
    "x = resamp_data.shape[0]\n",
    "y = resamp_data.shape[1]\n",
    "z = resamp_data.shape[2]\n",
    "\n",
    "# This will set all elements of atlas_data to either 0 or 1.\n",
    "m = 0\n",
    "for i in range(0, x):\n",
    "    for j in range(0, y):\n",
    "        for k in range(0, z):\n",
    "            if resamp_data[i][j][k] in [2301,2311,5401,5402]:\n",
    "                m += 1\n",
    "                mask[i][j][k] = 1\n",
    "            else:\n",
    "                mask[i][j][k] = 0\n",
    "print(m)\n",
    "\n",
    "mask_nifti = nib.Nifti1Image(mask, affine = target_affine)\n",
    "plotting.plot_roi(mask_nifti)\n",
    "plotting.plot_roi(atlas_img)"
   ]
  },
  {
   "cell_type": "code",
   "execution_count": 67,
   "metadata": {
    "tags": []
   },
   "outputs": [
    {
     "name": "stdout",
     "output_type": "stream",
     "text": [
      "[0.4        0.2        0.26666667 0.13333333 0.28571429 0.28571429\n",
      " 0.07142857 0.35714286 0.21428571 0.28571429]\n",
      "Mean prediction score:\n",
      "0.25\n"
     ]
    }
   ],
   "source": [
    "from nilearn.input_data import NiftiMasker\n",
    "from nilearn.decoding import SearchLight\n",
    "from sklearn.svm import LinearSVC\n",
    "from sklearn.naive_bayes import GaussianNB as nb\n",
    "masker = NiftiMasker(mask_img=mask_nifti, standardize=False)\n",
    "\n",
    "\n",
    "\n",
    "# We use masker to retrieve a 2D array ready\n",
    "# for machine learning with scikit-learn\n",
    "fmri_masked_train = masker.fit_transform(fmri_img1)\n",
    "fmri_masked_test = masker.fit_transform(fmri_img2)\n",
    "#Print size of matrix (images x voxels)\n",
    "# print(fmri_masked.shape)\n",
    "\n",
    "lin_clf = LinearSVC(penalty = \"l2\")\n",
    "\n",
    "lin_clf.fit(fmri_masked_train, conditions1)\n",
    "\n",
    "from sklearn.model_selection import cross_val_score\n",
    "cv_score = cross_val_score(lin_clf, fmri_masked_test, conditions2, cv=10)\n",
    "print(cv_score)\n",
    "print('Mean prediction score:')\n",
    "print(np.mean(cv_score))"
   ]
  },
  {
   "cell_type": "code",
   "execution_count": 39,
   "metadata": {},
   "outputs": [
    {
     "name": "stdout",
     "output_type": "stream",
     "text": [
      "(576, 462)\n",
      "(576,)\n"
     ]
    }
   ],
   "source": [
    "print(fmri_masked_train.shape)\n",
    "print(conditions1.shape)"
   ]
  },
  {
   "cell_type": "markdown",
   "metadata": {},
   "source": [
    "### Perform a permutation test"
   ]
  },
  {
   "cell_type": "code",
   "execution_count": null,
   "metadata": {
    "tags": []
   },
   "outputs": [],
   "source": [
    "from sklearn.model_selection import permutation_test_score\n",
    "score, permutation_scores, pvalue= permutation_test_score(\n",
    "    LinearSVC(penalty='l2'), fmri_masked, conditions2, cv=10, n_permutations=100, \n",
    "    n_jobs=-1, random_state=0, verbose=0, scoring=None)\n",
    "print(\"Classification Accuracy: %s (pvalue : %s)\" % (score, pvalue))"
   ]
  },
  {
   "cell_type": "markdown",
   "metadata": {},
   "source": [
    "### View a histogram of permutation scores"
   ]
  },
  {
   "cell_type": "code",
   "execution_count": null,
   "metadata": {
    "tags": []
   },
   "outputs": [],
   "source": [
    "import numpy as np\n",
    "import matplotlib.pyplot as plt\n",
    "#How many classes\n",
    "n_classes = np.unique(conditions2).size\n",
    "\n",
    "plt.hist(permutation_scores, 20, label='Permutation scores',\n",
    "         edgecolor='black')\n",
    "ylim = plt.ylim()\n",
    "plt.plot(2 * [score], ylim, '--g', linewidth=3,\n",
    "         label='Classification Score'\n",
    "         ' (pvalue %s)' % pvalue)\n",
    "plt.plot(2 * [1. / n_classes], ylim, '--k', linewidth=3, label='Chance level')\n",
    "\n",
    "plt.ylim(ylim)\n",
    "plt.legend()\n",
    "plt.xlabel('Score')\n",
    "plt.show()"
   ]
  },
  {
   "cell_type": "code",
   "execution_count": null,
   "metadata": {},
   "outputs": [],
   "source": []
  }
 ],
 "metadata": {
  "kernelspec": {
   "display_name": "Python 3.9.2 64-bit",
   "language": "python",
   "name": "python3"
  },
  "language_info": {
   "codemirror_mode": {
    "name": "ipython",
    "version": 3
   },
   "file_extension": ".py",
   "mimetype": "text/x-python",
   "name": "python",
   "nbconvert_exporter": "python",
   "pygments_lexer": "ipython3",
   "version": "3.9.2"
  },
  "vscode": {
   "interpreter": {
    "hash": "31f2aee4e71d21fbe5cf8b01ff0e069b9275f58929596ceb00d14d90e3e16cd6"
   }
  }
 },
 "nbformat": 4,
 "nbformat_minor": 4
}
