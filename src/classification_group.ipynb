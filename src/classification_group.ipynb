{
 "cells": [
  {
   "cell_type": "markdown",
   "metadata": {},
   "source": [
    "# Making a trial by trial fit of faceWord dataand using that for searchligth classificiation\n",
    "\n",
    "This tutorial will load models and data from tutorial 13 and change the design matrix to one that gives a beta estimate for each trial."
   ]
  },
  {
   "cell_type": "code",
   "execution_count": 5,
   "metadata": {
    "execution": {
     "iopub.execute_input": "2022-11-28T10:18:25.242415Z",
     "iopub.status.busy": "2022-11-28T10:18:25.241718Z",
     "iopub.status.idle": "2022-11-28T10:18:44.928065Z",
     "shell.execute_reply": "2022-11-28T10:18:44.926749Z",
     "shell.execute_reply.started": "2022-11-28T10:18:25.242361Z"
    },
    "tags": []
   },
   "outputs": [
    {
     "name": "stdout",
     "output_type": "stream",
     "text": [
      "Starting cell: 11:18:25\n"
     ]
    },
    {
     "name": "stderr",
     "output_type": "stream",
     "text": [
      "/opt/conda/lib/python3.10/site-packages/_distutils_hack/__init__.py:33: UserWarning: Setuptools is replacing distutils.\n",
      "  warnings.warn(\"Setuptools is replacing distutils.\")\n"
     ]
    },
    {
     "name": "stdout",
     "output_type": "stream",
     "text": [
      "Finishing cell: 11:18:44\n"
     ]
    }
   ],
   "source": [
    "# import some functionality\n",
    "from datetime import datetime\n",
    "\n",
    "now = datetime.now()\n",
    "print('Starting cell:',now.strftime(\"%H:%M:%S\"))\n",
    "import os\n",
    "import pip\n",
    "os.system('python -m pip install numpy')\n",
    "os.system('python -m pip install matplotlib')\n",
    "os.system('python -m pip install scipy')\n",
    "os.system('python -m pip install panda')\n",
    "os.system('python -m pip install nilearn')\n",
    "os.system('python -m pip install sklearn')\n",
    "os.system('python -m pip install pickle')\n",
    "os.system('python -m pip install atlasreader')\n",
    "os.system('python -m pip install seaborn')\n",
    "\n",
    "#import os.path as op\n",
    "import numpy as np\n",
    "import pandas as pd\n",
    "import matplotlib.pyplot as plt\n",
    "#from scipy.ndimage import gaussian_filter\n",
    "\n",
    "%matplotlib inline\n",
    "\n",
    "now = datetime.now()\n",
    "print('Finishing cell:',now.strftime(\"%H:%M:%S\"))"
   ]
  },
  {
   "cell_type": "code",
   "execution_count": 6,
   "metadata": {
    "execution": {
     "iopub.execute_input": "2022-11-28T10:19:15.283823Z",
     "iopub.status.busy": "2022-11-28T10:19:15.283122Z",
     "iopub.status.idle": "2022-11-28T10:20:17.036016Z",
     "shell.execute_reply": "2022-11-28T10:20:17.035204Z",
     "shell.execute_reply.started": "2022-11-28T10:19:15.283764Z"
    },
    "tags": []
   },
   "outputs": [
    {
     "name": "stdout",
     "output_type": "stream",
     "text": [
      "Starting cell: 11:19:15\n",
      "Finishing cell: 11:20:17\n"
     ]
    }
   ],
   "source": [
    "import pickle\n",
    "\n",
    "now = datetime.now()\n",
    "print('Starting cell:',now.strftime(\"%H:%M:%S\"))\n",
    "\n",
    "# Getting the first level models from tutorial 13:\n",
    "f = open('/work/82777/WordFace_first_level_models.pkl', 'rb')\n",
    "models, models_run_imgs, models_events, models_confounds = pickle.load(f)\n",
    "f.close()\n",
    "\n",
    "now = datetime.now()\n",
    "print('Finishing cell:',now.strftime(\"%H:%M:%S\"))"
   ]
  },
  {
   "cell_type": "markdown",
   "metadata": {},
   "source": [
    "## Saving/retrieving the fitted models and design matrices"
   ]
  },
  {
   "cell_type": "code",
   "execution_count": 2,
   "metadata": {
    "execution": {
     "iopub.execute_input": "2022-11-28T10:04:41.920734Z",
     "iopub.status.busy": "2022-11-28T10:04:41.919626Z",
     "iopub.status.idle": "2022-11-28T10:07:00.173159Z",
     "shell.execute_reply": "2022-11-28T10:07:00.172249Z",
     "shell.execute_reply.started": "2022-11-28T10:04:41.920654Z"
    },
    "tags": []
   },
   "outputs": [
    {
     "name": "stderr",
     "output_type": "stream",
     "text": [
      "/opt/conda/lib/python3.10/site-packages/nilearn/glm/__init__.py:55: FutureWarning: The nilearn.glm module is experimental. It may change in any future release of Nilearn.\n",
      "  warn('The nilearn.glm module is experimental. '\n"
     ]
    }
   ],
   "source": [
    "import pickle\n",
    "\n",
    "# Getting back the objects:\n",
    "f = open('/work/82777/WordFace_first_level_models_all_trials_all_par.pkl', 'rb')\n",
    "models_trials_all, lsa_dm = pickle.load(f)\n",
    "f.close()\n",
    "\n",
    "#print(model1[0])\n",
    "#now = datetime.now()\n",
    "#print('Finishing cell:',now.strftime(\"%H:%M:%S\"))"
   ]
  },
  {
   "cell_type": "markdown",
   "metadata": {},
   "source": [
    "## Load z maps and classification labels for each participant\n"
   ]
  },
  {
   "cell_type": "code",
   "execution_count": 7,
   "metadata": {
    "execution": {
     "iopub.execute_input": "2022-11-28T10:20:23.093990Z",
     "iopub.status.busy": "2022-11-28T10:20:23.093784Z",
     "iopub.status.idle": "2022-11-28T10:28:41.166338Z",
     "shell.execute_reply": "2022-11-28T10:28:41.163767Z",
     "shell.execute_reply.started": "2022-11-28T10:20:23.093971Z"
    },
    "tags": []
   },
   "outputs": [
    {
     "name": "stdout",
     "output_type": "stream",
     "text": [
      "Loading file 1\n",
      "\n",
      "Loading file 2\n",
      "\n",
      "Loading file 3\n",
      "\n",
      "Loading file 4\n",
      "\n",
      "Loading file 5\n",
      "\n",
      "Loading file 6\n",
      "\n",
      "Loading file 7\n",
      "\n",
      "Loading file 8\n",
      "\n",
      "Loading file 9\n",
      "\n",
      "Loading file 10\n",
      "\n",
      "Loading file 11\n",
      "\n",
      "Loading file 12\n",
      "\n",
      "Loading file 13\n",
      "\n",
      "Loading file 14\n",
      "\n",
      "Loading file 15\n",
      "\n",
      "Loading file 16\n",
      "\n",
      "Loading file 17\n",
      "\n",
      "Loading file 18\n",
      "\n",
      "Loading file 19\n",
      "\n",
      "Loading file 20\n",
      "\n",
      "Loading file 21\n",
      "\n",
      "Loading file 22\n",
      "\n",
      "['image_pos', 'image_neg', 'image_pos', 'image_pos', 'image_neg', 'image_pos', 'image_pos', 'image_neg', 'image_pos', 'image_neg', 'image_pos', 'image_neg', 'image_pos', 'image_neg', 'image_neg', 'image_neg', 'image_neg', 'image_neg', 'image_pos', 'image_pos', 'image_neg', 'image_pos', 'image_pos', 'image_neg', 'image_neg', 'image_neg', 'image_pos', 'image_neg', 'image_neg', 'image_neg', 'image_pos', 'image_pos', 'image_neg', 'image_pos', 'image_neg', 'image_neg', 'image_neg', 'image_pos', 'image_pos', 'image_pos', 'image_pos', 'image_pos', 'image_neg', 'image_pos', 'image_neg', 'image_pos', 'image_neg', 'image_pos', 'image_pos', 'image_neg', 'image_neg', 'image_neg', 'image_pos', 'image_neg', 'image_pos', 'image_pos', 'image_neg', 'image_neg', 'image_neg', 'image_pos', 'word_pos', 'word_neg', 'word_pos', 'word_pos', 'word_neg', 'word_neu', 'word_neu', 'word_neg', 'word_neu', 'word_neg', 'word_pos', 'word_neg', 'word_pos', 'word_neu', 'word_neg', 'word_neg', 'word_neg', 'word_neg', 'word_neu', 'word_pos', 'word_neu', 'word_neu', 'word_neu', 'word_neg', 'word_neg', 'word_neu', 'word_neu', 'word_neu', 'word_neu', 'word_neu', 'word_pos', 'word_pos', 'word_neg', 'word_pos', 'word_neu', 'word_neg', 'word_neg', 'word_pos', 'word_neu', 'word_pos', 'word_pos', 'word_pos', 'word_neg', 'word_pos', 'word_neg', 'word_pos', 'word_neu', 'word_pos', 'word_pos', 'word_neg', 'word_neg', 'word_neg', 'word_pos', 'word_neg', 'word_pos', 'word_pos', 'word_neu', 'word_neu', 'word_neu', 'word_neu', 'image_pos', 'image_pos', 'image_neg', 'image_neg', 'image_pos', 'image_pos', 'image_pos', 'image_neg', 'image_neg', 'image_pos', 'image_neg', 'image_pos', 'image_pos', 'image_pos', 'image_pos', 'image_pos', 'image_neg', 'image_neg', 'image_neg', 'image_pos', 'image_neg', 'image_pos', 'image_neg', 'image_neg', 'image_pos', 'image_neg', 'image_pos', 'image_pos', 'image_neg', 'image_neg', 'image_neg', 'image_neg', 'image_neg', 'image_neg', 'image_neg', 'image_pos', 'image_neg', 'image_pos', 'image_neg', 'image_pos', 'image_pos', 'image_neg', 'image_pos', 'image_neg', 'image_neg', 'image_pos', 'image_neg', 'image_pos', 'image_neg', 'image_neg', 'image_neg', 'image_neg', 'image_pos', 'image_pos', 'image_pos', 'image_pos', 'image_neg', 'image_neg', 'image_pos', 'image_pos', 'word_pos', 'word_pos', 'word_neu', 'word_neg', 'word_pos', 'word_pos', 'word_pos', 'word_neg', 'word_neg', 'word_pos', 'word_neg', 'word_neu', 'word_neu', 'word_pos', 'word_pos', 'word_neu', 'word_neg', 'word_neu', 'word_neu', 'word_neu', 'word_neg', 'word_pos', 'word_neg', 'word_neg', 'word_neu', 'word_neu', 'word_pos', 'word_pos', 'word_neg', 'word_neg', 'word_neg', 'word_neu', 'word_neg', 'word_neu', 'word_neg', 'word_pos', 'word_neg', 'word_neu', 'word_neg', 'word_pos', 'word_pos', 'word_neu', 'word_pos', 'word_neg', 'word_neg', 'word_pos', 'word_neu', 'word_neu', 'word_neg', 'word_neu', 'word_neg', 'word_neu', 'word_pos', 'word_pos', 'word_neu', 'word_pos', 'word_neg', 'word_neu', 'word_neu', 'word_pos', 'image_pos', 'image_pos', 'image_pos', 'image_neg', 'image_neg', 'image_pos', 'image_neg', 'image_pos', 'image_pos', 'image_neg', 'image_neg', 'image_neg', 'image_neg', 'image_neg', 'image_pos', 'image_pos', 'image_neg', 'image_neg', 'image_pos', 'image_pos', 'image_pos', 'image_pos', 'image_neg', 'image_pos', 'image_neg', 'image_neg', 'image_neg', 'image_neg', 'image_pos', 'image_pos', 'image_pos', 'image_neg', 'image_pos', 'image_neg', 'image_pos', 'image_pos', 'image_pos', 'image_pos', 'image_neg', 'image_neg', 'image_neg', 'image_pos', 'image_pos', 'image_pos', 'image_neg', 'image_neg', 'image_neg', 'image_pos', 'image_pos', 'image_pos', 'image_pos', 'image_pos', 'image_pos', 'image_neg', 'image_neg', 'image_neg', 'image_pos', 'image_neg', 'image_pos', 'image_pos', 'word_neu', 'word_pos', 'word_pos', 'word_neg', 'word_neg', 'word_pos', 'word_neg', 'word_pos', 'word_neu', 'word_neg', 'word_neg', 'word_neg', 'word_neg', 'word_neu', 'word_pos', 'word_pos', 'word_neg', 'word_neg', 'word_pos', 'word_neu', 'word_neu', 'word_pos', 'word_neg', 'word_neu', 'word_neu', 'word_neg', 'word_neg', 'word_neg', 'word_neu', 'word_pos', 'word_pos', 'word_neg', 'word_pos', 'word_neg', 'word_pos', 'word_pos', 'word_pos', 'word_neu', 'word_neu', 'word_neu', 'word_neu', 'word_pos', 'word_pos', 'word_neu', 'word_neg', 'word_neg', 'word_neg', 'word_neu', 'word_pos', 'word_neu', 'word_neu', 'word_pos', 'word_neu', 'word_neg', 'word_neu', 'word_neg', 'word_neu', 'word_neu', 'word_pos', 'word_pos', 'image_neg', 'image_neg', 'image_pos', 'image_neg', 'image_pos', 'image_neg', 'image_pos', 'image_pos', 'image_neg', 'image_pos', 'image_neg', 'image_neg', 'image_neg', 'image_pos', 'image_pos', 'image_pos', 'image_pos', 'image_pos', 'image_pos', 'image_pos', 'image_pos', 'image_neg', 'image_neg', 'image_pos', 'image_neg', 'image_pos', 'image_neg', 'image_pos', 'image_pos', 'image_neg', 'image_pos', 'image_neg', 'image_neg', 'image_pos', 'image_neg', 'image_neg', 'image_neg', 'image_neg', 'image_pos', 'image_pos', 'image_neg', 'image_pos', 'image_neg', 'image_neg', 'image_neg', 'image_neg', 'image_pos', 'image_pos', 'image_neg', 'image_neg', 'image_neg', 'image_neg', 'image_pos', 'image_neg', 'image_pos', 'image_neg', 'image_pos', 'image_neg', 'image_pos', 'image_pos', 'word_neg', 'word_neg', 'word_neu', 'word_neg', 'word_neu', 'word_neu', 'word_pos', 'word_pos', 'word_neg', 'word_pos', 'word_neu', 'word_neg', 'word_neu', 'word_neu', 'word_pos', 'word_pos', 'word_pos', 'word_pos', 'word_pos', 'word_pos', 'word_pos', 'word_neu', 'word_neg', 'word_pos', 'word_neg', 'word_pos', 'word_neg', 'word_neu', 'word_pos', 'word_neg', 'word_pos', 'word_neg', 'word_neu', 'word_pos', 'word_neu', 'word_neg', 'word_neg', 'word_neu', 'word_pos', 'word_pos', 'word_neg', 'word_neu', 'word_neu', 'word_neg', 'word_neu', 'word_neu', 'word_pos', 'word_pos', 'word_neu', 'word_neg', 'word_neg', 'word_neg', 'word_pos', 'word_neg', 'word_neu', 'word_neg', 'word_neu', 'word_neg', 'word_neu', 'word_neu', 'image_neg', 'image_pos', 'image_neg', 'image_pos', 'image_neg', 'image_neg', 'image_pos', 'image_neg', 'image_pos', 'image_pos', 'image_neg', 'image_pos', 'image_neg', 'image_neg', 'image_pos', 'image_pos', 'image_pos', 'image_pos', 'image_neg', 'image_pos', 'image_pos', 'image_pos', 'image_pos', 'image_neg', 'image_neg', 'image_neg', 'image_pos', 'image_neg', 'image_neg', 'image_pos', 'image_pos', 'image_neg', 'image_pos', 'image_neg', 'image_neg', 'image_pos', 'image_pos', 'image_neg', 'image_neg', 'image_neg', 'image_neg', 'image_pos', 'image_neg', 'image_neg', 'image_neg', 'image_neg', 'image_pos', 'image_neg', 'image_pos', 'image_pos', 'image_pos', 'image_pos', 'image_pos', 'image_neg', 'image_neg', 'image_neg', 'image_pos', 'image_neg', 'image_neg', 'image_pos', 'word_neu', 'word_pos', 'word_neg', 'word_neu', 'word_neg', 'word_neg', 'word_pos', 'word_neu', 'word_neu', 'word_pos', 'word_neg', 'word_pos', 'word_neg', 'word_neu', 'word_pos', 'word_pos', 'word_pos', 'word_pos', 'word_neg', 'word_pos', 'word_pos', 'word_pos', 'word_neu', 'word_neg', 'word_neg', 'word_neg', 'word_pos', 'word_neg', 'word_neg', 'word_pos', 'word_pos', 'word_neg', 'word_pos', 'word_neu', 'word_neg', 'word_neu', 'word_neu', 'word_neg', 'word_neu', 'word_neg', 'word_neg', 'word_neu', 'word_neu', 'word_neg', 'word_neg', 'word_neu', 'word_pos', 'word_neg', 'word_pos', 'word_neu', 'word_pos', 'word_neu', 'word_pos', 'word_neu', 'word_neg', 'word_neu', 'word_pos', 'word_neu', 'word_neu', 'word_neu', 'image_neg', 'image_pos', 'image_neg', 'image_neg', 'image_pos', 'image_neg', 'image_neg', 'image_neg', 'image_neg', 'image_pos', 'image_pos', 'image_neg', 'image_neg', 'image_neg', 'image_pos', 'image_pos', 'image_pos', 'image_neg', 'image_pos', 'image_pos', 'image_neg', 'image_neg', 'image_neg', 'image_neg', 'image_pos', 'image_neg', 'image_pos', 'image_neg', 'image_pos', 'image_pos', 'image_pos', 'image_pos', 'image_pos', 'image_pos', 'image_pos', 'image_pos', 'image_neg', 'image_pos', 'image_neg', 'image_pos', 'image_neg', 'image_pos', 'image_neg', 'image_pos', 'image_neg', 'image_pos', 'image_pos', 'image_pos', 'image_neg', 'image_pos', 'image_neg', 'image_neg', 'image_pos', 'image_neg', 'image_neg', 'image_pos', 'image_pos', 'image_neg', 'image_pos', 'image_neg', 'word_neg', 'word_neu', 'word_neg', 'word_neg', 'word_neu', 'word_neg', 'word_neu', 'word_neu', 'word_neg', 'word_pos', 'word_neu', 'word_neu', 'word_neu', 'word_neg', 'word_neu', 'word_pos', 'word_neu', 'word_neg', 'word_neu', 'word_pos', 'word_neg', 'word_neg', 'word_neg', 'word_neg', 'word_neu', 'word_neg', 'word_neu', 'word_neg', 'word_pos', 'word_pos', 'word_neu', 'word_pos', 'word_pos', 'word_pos', 'word_pos', 'word_pos', 'word_neu', 'word_pos', 'word_neu', 'word_neu', 'word_neg', 'word_pos', 'word_neu', 'word_pos', 'word_neu', 'word_pos', 'word_neu', 'word_pos', 'word_neg', 'word_pos', 'word_neg', 'word_neg', 'word_pos', 'word_neg', 'word_neg', 'word_pos', 'word_pos', 'word_neu', 'word_pos', 'word_neg']\n",
      "Finishing cell: 11:28:41\n"
     ]
    }
   ],
   "source": [
    "# Getting back the objects:\n",
    "N_par=len(models_events) # Number of participants\n",
    "z_maps_all= np.empty((N_par, 0)).tolist()\n",
    "conditions_label_all= np.empty((N_par, 0)).tolist()\n",
    "for i in rante(0,5)#range(N_par):\n",
    "    text = \"Loading file %d\\n\" % (i+1)\n",
    "    print(text)\n",
    "    file_name='/work/82777/WordFace_first_level_z_maps_all_trials_all_par_'+str(i)+'.pkl'\n",
    "    f = open(file_name, 'rb')\n",
    "    conditions_label_temp, z_maps_temp = pickle.load(f)\n",
    "    conditions_label_all[i]=conditions_label_temp\n",
    "    z_maps_all[i]=z_maps_temp\n",
    "    f.close()\n",
    "\n",
    "print(conditions_label_all[9])\n",
    "            \n",
    "now = datetime.now()\n",
    "print('Finishing cell:',now.strftime(\"%H:%M:%S\"))"
   ]
  },
  {
   "cell_type": "markdown",
   "metadata": {},
   "source": [
    "## Reshape data for classification"
   ]
  },
  {
   "cell_type": "code",
   "execution_count": 8,
   "metadata": {
    "execution": {
     "iopub.execute_input": "2022-11-28T10:29:35.216043Z",
     "iopub.status.busy": "2022-11-28T10:29:35.215336Z",
     "iopub.status.idle": "2022-11-28T10:29:37.741391Z",
     "shell.execute_reply": "2022-11-28T10:29:37.740410Z",
     "shell.execute_reply.started": "2022-11-28T10:29:35.215986Z"
    },
    "tags": []
   },
   "outputs": [
    {
     "name": "stdout",
     "output_type": "stream",
     "text": [
      "Starting cell: 11:29:35\n",
      "Reshaping participant 1\n",
      "\n",
      "(78, 92, 65, 720)\n",
      "(78, 92, 65, 360)\n",
      "Finishing cell: 11:29:37\n"
     ]
    }
   ],
   "source": [
    "\n",
    "now = datetime.now()\n",
    "print('Starting cell:',now.strftime(\"%H:%M:%S\"))\n",
    "\n",
    "import numpy as np\n",
    "#from nilearn import datasets\n",
    "from nilearn.image import new_img_like, load_img, index_img, clean_img\n",
    "from sklearn.model_selection import train_test_split, GroupKFold\n",
    "\n",
    "N_par=len(models_events) # Number of participants\n",
    "z_maps_img_all= np.empty((N_par, 0)).tolist()\n",
    "z_maps_conc= np.empty((N_par, 0)).tolist()\n",
    "conditions= np.empty((N_par, 0)).tolist()\n",
    "\n",
    "for i in range(0,5):#range(N_par):\n",
    "    n_trials=len(conditions_label_all[i])\n",
    "    text = \"Reshaping participant %d\\n\" % (i+1)\n",
    "    print(text)\n",
    "\n",
    "\n",
    "    # Reshaping data------------------------------\n",
    "    from nilearn.image import index_img, concat_imgs\n",
    "    idx_neg=[int(iii) for iii in range(len(conditions_label_all[i])) if conditions_label_all[i][iii]=='image_neg']\n",
    "    idx_pos=[int(iii) for iii in range(len(conditions_label_all[i])) if conditions_label_all[i][iii]=='image_pos']\n",
    "\n",
    "    #Concatenate trials\n",
    "    idx=np.concatenate((idx_neg, idx_pos))\n",
    "\n",
    "    conditions[i]=np.array(conditions_label_all[i])[idx]\n",
    "    z_maps_conc[i]=concat_imgs(z_maps_all[i])\n",
    "    print(z_maps_conc[i].shape)\n",
    "    z_maps_img_all[i] = index_img(z_maps_conc[i], idx)\n",
    "\n",
    "    print(z_maps_img_all[i].shape)\n",
    "\n",
    "now = datetime.now()\n",
    "print('Finishing cell:',now.strftime(\"%H:%M:%S\"))"
   ]
  },
  {
   "cell_type": "markdown",
   "metadata": {},
   "source": [
    "## create training and testing vars on the basis of class labels"
   ]
  },
  {
   "cell_type": "code",
   "execution_count": 9,
   "metadata": {
    "execution": {
     "iopub.execute_input": "2022-11-28T10:30:20.073196Z",
     "iopub.status.busy": "2022-11-28T10:30:20.072497Z",
     "iopub.status.idle": "2022-11-28T10:30:21.456016Z",
     "shell.execute_reply": "2022-11-28T10:30:21.455251Z",
     "shell.execute_reply.started": "2022-11-28T10:30:20.073140Z"
    },
    "tags": []
   },
   "outputs": [
    {
     "name": "stdout",
     "output_type": "stream",
     "text": [
      "Starting cell: 11:30:20\n",
      "Creating trian/test data for participant 1\n",
      "\n",
      "Finishing cell: 11:30:21\n"
     ]
    }
   ],
   "source": [
    "now = datetime.now()\n",
    "print('Starting cell:',now.strftime(\"%H:%M:%S\"))\n",
    "\n",
    "N_par=len(models_events) # Number of participants\n",
    "idx1= np.empty((N_par, 0)).tolist()\n",
    "idx2= np.empty((N_par, 0)).tolist()\n",
    "conditions1= np.empty((N_par, 0)).tolist()\n",
    "conditions2= np.empty((N_par, 0)).tolist()\n",
    "fmri_img1= np.empty((N_par, 0)).tolist()\n",
    "fmri_img2= np.empty((N_par, 0)).tolist()\n",
    "\n",
    "for i in range (0,5):#(N_par):\n",
    "    text = \"Creating trian/test data for participant %d\\n\" % (i+1)\n",
    "    print(text)\n",
    "    idx2[i]=np.arange(conditions[i].shape[0])\n",
    "    # create training and testing vars on the basis of class labels\n",
    "    idx1[i],idx2[i], conditions1[i],  conditions2[i] = train_test_split(idx2[i],conditions[i], test_size=0.2)\n",
    "    \n",
    "    # Reshaping data------------------------------\n",
    "    from nilearn.image import index_img\n",
    "    fmri_img1[i] = index_img(z_maps_img_all[i], idx1[i])\n",
    "    fmri_img2[i] = index_img(z_maps_img_all[i], idx2[i])\n",
    "\n",
    "now = datetime.now()\n",
    "print('Finishing cell:',now.strftime(\"%H:%M:%S\"))"
   ]
  },
  {
   "cell_type": "code",
   "execution_count": 16,
   "metadata": {
    "execution": {
     "iopub.execute_input": "2022-11-28T10:34:40.803477Z",
     "iopub.status.busy": "2022-11-28T10:34:40.802784Z",
     "iopub.status.idle": "2022-11-28T10:34:40.812232Z",
     "shell.execute_reply": "2022-11-28T10:34:40.811180Z",
     "shell.execute_reply.started": "2022-11-28T10:34:40.803418Z"
    },
    "tags": []
   },
   "outputs": [
    {
     "name": "stdout",
     "output_type": "stream",
     "text": [
      "360\n",
      "288\n",
      "72\n"
     ]
    }
   ],
   "source": [
    "print(len(conditions[0]))\n",
    "print(len(idx1[0]))\n",
    "print(len(idx2[0]))"
   ]
  },
  {
   "cell_type": "markdown",
   "metadata": {},
   "source": [
    "## Make a classification on the 2nd split using the best voxels"
   ]
  },
  {
   "cell_type": "code",
   "execution_count": null,
   "metadata": {},
   "outputs": [],
   "source": [
    "import nilearn\n",
    "from nilearn import plotting\n",
    "atlas_name = \"cort-maxprob-thr50-2mm\"\n",
    "\n",
    "atlas = nilearn.datasets.fetch_atlas_harvard_oxford(atlas_name, data_dir=\"/work/fMRI Assignment/neuro_exam/atlases\", symmetric_split=False, resume=True, verbose=1)\n",
    "atlas2 = nilearn.datasets.fetch_atlas_harvard_oxford(atlas_name, data_dir=\"/work/fMRI Assignment/neuro_exam/atlases\", symmetric_split=False, resume=True, verbose=1)\n",
    "# PREPARING ATLAS\n",
    "atlas_img = atlas[\"maps\"]\n",
    "# Get labels\n",
    "labels = atlas.labels\n",
    "atlas_data = atlas_img.get_fdata()\n",
    "\n",
    "from nilearn.image import resample_img as resample\n",
    "\n",
    "target_affine = test_img.affine\n",
    "\n",
    "shape = test_img.shape\n",
    "target_shape = [shape[0], shape[1], shape[2]]\n",
    "\n",
    "resampled_atlas =resample(atlas_img,target_affine = target_affine, target_shape = target_shape, interpolation = 'nearest')\n",
    "\n",
    "resamp_data = resampled_atlas.get_fdata()\n",
    "\n",
    "mask = resamp_data.copy()\n",
    "\n",
    "\n",
    "x = resamp_data.shape[0]\n",
    "y = resamp_data.shape[1]\n",
    "z = resamp_data.shape[2]\n",
    "\n",
    "# This will set all elements of atlas_data to either 0 or 1.\n",
    "m = 0\n",
    "for i in range(0, x):\n",
    "    for j in range(0, y):\n",
    "        for k in range(0, z):\n",
    "            if resamp_data[i][j][k] in [5,6,40]:\n",
    "                m += 1\n",
    "                mask[i][j][k] = 1\n",
    "            else:\n",
    "                mask[i][j][k] = 0\n",
    "print(m)\n",
    "\n",
    "mask_nifti = nib.Nifti1Image(mask, affine = target_affine)\n",
    "plotting.plot_roi(mask_nifti)\n",
    "plotting.plot_roi(atlas_img)"
   ]
  },
  {
   "cell_type": "markdown",
   "metadata": {},
   "source": [
    "### Perform a permutation test"
   ]
  },
  {
   "cell_type": "code",
   "execution_count": null,
   "metadata": {
    "tags": []
   },
   "outputs": [],
   "source": [
    "now = datetime.now()\n",
    "print('Starting cell:',now.strftime(\"%H:%M:%S\"))\n",
    "\n",
    "from sklearn.model_selection import permutation_test_score\n",
    "from sklearn import LinearSVC\n",
    "\n",
    "lin_clf = LinearSVC(penalty = \"l2\")\n",
    "\n",
    "for i in range(0,5):#(N_par):\n",
    "    \n",
    "    masker = NiftiMasker(mask_img=process_mask2_img[i], standardize=False)\n",
    "    # We use masker to retrieve a 2D array ready\n",
    "    # for machine learning with scikit-learn\n",
    "    fmri_masked_train = masker.fit_transform(fmri_img1[i])\n",
    "    lin_clf.fit(fmri_masked_train)\n",
    "\n",
    "\n",
    "for i in range(0,5):#(N_par):\n",
    "    score[i], permutation_scores[i], pvalue[i]= permutation_test_score(\n",
    "        lin_clf, fmri_masked[i], conditions2[i], cv=10, n_permutations=1000, \n",
    "        n_jobs=-1, random_state=0, verbose=0, scoring=None)\n",
    "    print(\"Classification Accuracy for participant %d: %s (pvalue : %s)\" % (i,score, pvalue))\n",
    " \n",
    "# Saving the objects:\n",
    "f = open('/work/MikkelWallentin#6287/WordFace_first_level_models_all_trials_classified.pkl', 'wb')\n",
    "pickle.dump([searchlight_all, searchlight_img, cut, perc, process_mask2_img, score,permutation_score,pvalue], f)\n",
    "f.close()\n",
    "\n",
    "\n",
    "now = datetime.now()\n",
    "print('Finishing cell:',now.strftime(\"%H:%M:%S\"))"
   ]
  },
  {
   "cell_type": "markdown",
   "metadata": {},
   "source": [
    "### View a histogram of permutation scores"
   ]
  },
  {
   "cell_type": "code",
   "execution_count": null,
   "metadata": {
    "tags": []
   },
   "outputs": [],
   "source": [
    "#import numpy as np\n",
    "#import matplotlib.pyplot as plt\n",
    "#How many classes\n",
    "#n_classes = np.unique(conditions2).size\n",
    "\n",
    "#plt.hist(permutation_scores, 20, label='Permutation scores',\n",
    "#         edgecolor='black')\n",
    "#ylim = plt.ylim()\n",
    "#plt.plot(2 * [score], ylim, '--g', linewidth=3,\n",
    "#         label='Classification Score'\n",
    "#         ' (pvalue %s)' % pvalue)\n",
    "#plt.plot(2 * [1. / n_classes], ylim, '--k', linewidth=3, label='Chance level')\n",
    "\n",
    "#plt.ylim(ylim)\n",
    "#plt.legend()\n",
    "#plt.xlabel('Score')\n",
    "#plt.show()"
   ]
  },
  {
   "cell_type": "code",
   "execution_count": null,
   "metadata": {},
   "outputs": [],
   "source": []
  }
 ],
 "metadata": {
  "kernelspec": {
   "display_name": "Python 3.9.2 64-bit",
   "language": "python",
   "name": "python3"
  },
  "language_info": {
   "codemirror_mode": {
    "name": "ipython",
    "version": 3
   },
   "file_extension": ".py",
   "mimetype": "text/x-python",
   "name": "python",
   "nbconvert_exporter": "python",
   "pygments_lexer": "ipython3",
   "version": "3.9.2"
  },
  "vscode": {
   "interpreter": {
    "hash": "31f2aee4e71d21fbe5cf8b01ff0e069b9275f58929596ceb00d14d90e3e16cd6"
   }
  }
 },
 "nbformat": 4,
 "nbformat_minor": 4
}
